{
 "cells": [
  {
   "cell_type": "code",
   "execution_count": null,
   "metadata": {},
   "outputs": [],
   "source": [
    "import GetOldTweets3 as got\n",
    "import pandas as pd\n",
    "import csv\n",
    "from datetime import date, timedelta"
   ]
  },
  {
   "cell_type": "code",
   "execution_count": 2,
   "metadata": {},
   "outputs": [
    {
     "name": "stdout",
     "output_type": "stream",
     "text": [
      "01052019\n",
      "02052019\n",
      "03052019\n",
      "04052019\n",
      "05052019\n",
      "06052019\n",
      "07052019\n",
      "08052019\n",
      "09052019\n",
      "10052019\n",
      "11052019\n",
      "12052019\n",
      "13052019\n"
     ]
    }
   ],
   "source": [
    "with open(\"data/tesla.csv\", 'w', encoding=\"utf-8\") as f:\n",
    "    # Wrap the file object by the writer.\n",
    "    writer = csv.writer(f)\n",
    "    \n",
    "    # Write the header line to the output if needed.\n",
    "    writer.writerow(['date', 'tweet'])\n",
    "    \n",
    "    start = date(2019, 5, 1)\n",
    "    end = date.today()\n",
    "    day = timedelta(days=1)\n",
    "\n",
    "    mydate = start\n",
    "    \n",
    "    while mydate < end:\n",
    "        print(\"{date.day:02}{date.month:02}{date.year}\".format(date=mydate))\n",
    "        \n",
    "        tweetCriteria = got.manager.TweetCriteria().setQuerySearch('Tesla')\\\n",
    "                                           .setSince((\"{date.year}-{date.month:02}-{date.day:02}\".format(date=mydate)))\\\n",
    "                                           .setUntil((\"{date.year}-{date.month:02}-{date.day:02}\".format(date=mydate+day)))\\\n",
    "                                           .setTopTweets(True)\\\n",
    "                                           .setMaxTweets(240)\n",
    "        \n",
    "        mydate = mydate + day\n",
    "        \n",
    "    \n",
    "        # Loop through the dictionary and get the tuples.\n",
    "        # You may want to sort it somehow. Not shown here.\n",
    "        for tweets in got.manager.TweetManager.getTweets(tweetCriteria):\n",
    "            #writer.writerow(t)\n",
    "\n",
    "            writer.writerow([tweets.date, tweets.text])"
   ]
  },
  {
   "cell_type": "code",
   "execution_count": 51,
   "metadata": {},
   "outputs": [],
   "source": [
    "#tweetCriteria = got.manager.TweetCriteria().setQuerySearch('Brexit')\\\n",
    " #                                          .setSince(\"2019-03-01\")\\\n",
    "  #                                         .setUntil(\"2019-10-28\")\\\n",
    "   #                                        .setTopTweets(True)\\\n",
    "    #                                       .setMaxTweets(10)\n"
   ]
  }
 ],
 "metadata": {
  "kernelspec": {
   "display_name": "Python 3",
   "language": "python",
   "name": "python3"
  },
  "language_info": {
   "codemirror_mode": {
    "name": "ipython",
    "version": 3
   },
   "file_extension": ".py",
   "mimetype": "text/x-python",
   "name": "python",
   "nbconvert_exporter": "python",
   "pygments_lexer": "ipython3",
   "version": "3.6.7"
  }
 },
 "nbformat": 4,
 "nbformat_minor": 2
}
