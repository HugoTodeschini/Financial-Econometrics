{
 "cells": [
  {
   "cell_type": "code",
   "execution_count": 1,
   "metadata": {},
   "outputs": [
    {
     "data": {
      "text/plain": [
       "'Ressource https://stackoverflow.com/questions/18275306/does-python-has-a-similar-library-like-quantmod-in-r-that-can-download-financial\\n'"
      ]
     },
     "execution_count": 1,
     "metadata": {},
     "output_type": "execute_result"
    }
   ],
   "source": [
    "'''Ressource: https://stackoverflow.com/questions/18275306/does-python-has-a-similar-library-like-quantmod-in-r-that-can-download-financial\n",
    "'''"
   ]
  },
  {
   "cell_type": "code",
   "execution_count": 15,
   "metadata": {},
   "outputs": [],
   "source": [
    "from pandas_datareader import DataReader\n",
    "from datetime import datetime"
   ]
  },
  {
   "cell_type": "code",
   "execution_count": 17,
   "metadata": {},
   "outputs": [
    {
     "data": {
      "text/plain": [
       "Date\n",
       "2016-01-04    20.700001\n",
       "2016-01-05    19.340000\n",
       "2016-01-06    20.590000\n",
       "2016-01-07    24.990000\n",
       "2016-01-08    27.010000\n",
       "2016-01-11    24.299999\n",
       "2016-01-12    22.469999\n",
       "2016-01-13    25.219999\n",
       "2016-01-14    23.950001\n",
       "2016-01-15    27.020000\n",
       "2016-01-19    26.049999\n",
       "2016-01-20    27.590000\n",
       "2016-01-21    26.690001\n",
       "2016-01-22    22.340000\n",
       "2016-01-25    24.150000\n",
       "2016-01-26    22.500000\n",
       "2016-01-27    23.110001\n",
       "2016-01-28    22.420000\n",
       "2016-01-29    20.200001\n",
       "2016-02-01    19.980000\n",
       "2016-02-02    21.980000\n",
       "2016-02-03    21.650000\n",
       "2016-02-04    21.840000\n",
       "2016-02-05    23.379999\n",
       "2016-02-08    26.000000\n",
       "2016-02-09    26.540001\n",
       "2016-02-10    26.290001\n",
       "2016-02-11    28.139999\n",
       "2016-02-12    25.400000\n",
       "2016-02-16    24.110001\n",
       "                ...    \n",
       "2016-02-19    20.530001\n",
       "2016-02-22    19.379999\n",
       "2016-02-23    20.980000\n",
       "2016-02-24    20.719999\n",
       "2016-02-25    19.110001\n",
       "2016-02-26    19.809999\n",
       "2016-02-29    20.549999\n",
       "2016-03-01    17.700001\n",
       "2016-03-02    17.090000\n",
       "2016-03-03    16.700001\n",
       "2016-03-04    16.860001\n",
       "2016-03-07    17.350000\n",
       "2016-03-08    18.670000\n",
       "2016-03-09    18.340000\n",
       "2016-03-10    18.049999\n",
       "2016-03-11    16.500000\n",
       "2016-03-14    16.920000\n",
       "2016-03-15    16.840000\n",
       "2016-03-16    14.990000\n",
       "2016-03-17    14.440000\n",
       "2016-03-18    14.020000\n",
       "2016-03-21    13.790000\n",
       "2016-03-22    14.170000\n",
       "2016-03-23    14.940000\n",
       "2016-03-24    14.740000\n",
       "2016-03-28    15.240000\n",
       "2016-03-29    13.820000\n",
       "2016-03-30    13.560000\n",
       "2016-03-31    13.950000\n",
       "2016-04-01    13.100000\n",
       "Name: Adj Close, Length: 62, dtype: float64"
      ]
     },
     "execution_count": 17,
     "metadata": {},
     "output_type": "execute_result"
    }
   ],
   "source": [
    "#Import of data\n",
    "VIX = DataReader(\"^VIX\",  \"yahoo\", datetime(2016,1,1), datetime(2016,4,1))\n",
    "VIX = VIX['Adj Close']\n",
    "VIX"
   ]
  },
  {
   "cell_type": "code",
   "execution_count": 19,
   "metadata": {},
   "outputs": [
    {
     "ename": "NameError",
     "evalue": "name 'dropna' is not defined",
     "output_type": "error",
     "traceback": [
      "\u001b[1;31m---------------------------------------------------------------------------\u001b[0m",
      "\u001b[1;31mNameError\u001b[0m                                 Traceback (most recent call last)",
      "\u001b[1;32m<ipython-input-19-895a69b231bd>\u001b[0m in \u001b[0;36m<module>\u001b[1;34m\u001b[0m\n\u001b[0;32m      1\u001b[0m \u001b[1;31m#Question1\u001b[0m\u001b[1;33m\u001b[0m\u001b[1;33m\u001b[0m\u001b[1;33m\u001b[0m\u001b[0m\n\u001b[1;32m----> 2\u001b[1;33m \u001b[0ma\u001b[0m \u001b[1;33m=\u001b[0m \u001b[0mdropna\u001b[0m\u001b[1;33m(\u001b[0m\u001b[0mVIX\u001b[0m\u001b[1;33m)\u001b[0m\u001b[1;33m\u001b[0m\u001b[1;33m\u001b[0m\u001b[0m\n\u001b[0m\u001b[0;32m      3\u001b[0m \u001b[0ma\u001b[0m\u001b[1;33m\u001b[0m\u001b[1;33m\u001b[0m\u001b[0m\n",
      "\u001b[1;31mNameError\u001b[0m: name 'dropna' is not defined"
     ]
    }
   ],
   "source": [
    "#Question1\n",
    "VIX.dropna()"
   ]
  }
 ],
 "metadata": {
  "kernelspec": {
   "display_name": "Python 3",
   "language": "python",
   "name": "python3"
  },
  "language_info": {
   "codemirror_mode": {
    "name": "ipython",
    "version": 3
   },
   "file_extension": ".py",
   "mimetype": "text/x-python",
   "name": "python",
   "nbconvert_exporter": "python",
   "pygments_lexer": "ipython3",
   "version": "3.6.7"
  }
 },
 "nbformat": 4,
 "nbformat_minor": 2
}
