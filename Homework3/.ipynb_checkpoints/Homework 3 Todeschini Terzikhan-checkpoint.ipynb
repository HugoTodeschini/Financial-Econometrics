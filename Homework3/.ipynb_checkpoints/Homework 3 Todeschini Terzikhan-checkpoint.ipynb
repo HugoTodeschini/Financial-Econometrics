{
 "cells": [
  {
   "cell_type": "code",
   "execution_count": 114,
   "metadata": {},
   "outputs": [],
   "source": [
    "import pandas as pd\n",
    "import numpy as np\n",
    "\n",
    "from datetime import datetime\n",
    "from pandas_datareader import data\n",
    "from sklearn.linear_model import LinearRegression\n",
    "from sklearn.metrics import r2_score\n",
    "from scipy import stats\n",
    "import matplotlib.pyplot as plt\n",
    "\n",
    "import pandas_datareader\n",
    "import bs4 as bs\n",
    "import pickle\n",
    "import requests"
   ]
  },
  {
   "cell_type": "markdown",
   "metadata": {},
   "source": [
    "<h2>Downloading of data</h2>"
   ]
  },
  {
   "cell_type": "code",
   "execution_count": 2,
   "metadata": {},
   "outputs": [],
   "source": [
    "def save_sp500_tickers():\n",
    "    resp = requests.get('http://en.wikipedia.org/wiki/List_of_S%26P_500_companies')\n",
    "    soup = bs.BeautifulSoup(resp.text, 'lxml')\n",
    "    table = soup.find('table', {'class': 'wikitable sortable'})\n",
    "    tickers = []\n",
    "    for row in table.findAll('tr')[1:]:\n",
    "        ticker = row.findAll('td')[0].text\n",
    "        tickers.append(ticker)\n",
    "        \n",
    "    with open(\"sp500tickers.pickle\",\"wb\") as f:\n",
    "        pickle.dump(tickers,f)\n",
    "        \n",
    "    return tickers\n",
    "\n",
    "tickerList = save_sp500_tickers()\n",
    "tickerList = [ticker[:-1] for ticker in tickerList]\n",
    "tickerList = [ticker.replace('.', '-') for ticker in tickerList]\n",
    "tickerList.append('^GSPC')"
   ]
  },
  {
   "cell_type": "code",
   "execution_count": 3,
   "metadata": {},
   "outputs": [],
   "source": [
    "end_date = '2019-03-31'\n",
    "def get_stocks_data(ticker, source, end_date):\n",
    "    Ticker = pandas_datareader.data.DataReader(ticker, source, end = end_date)\n",
    "    Ticker['Ticker'] = ticker\n",
    "    return Ticker\n",
    "    \n",
    "stocks_data = [get_stocks_data(ticker, 'yahoo', end_date) for ticker in tickerList]"
   ]
  },
  {
   "cell_type": "code",
   "execution_count": 5,
   "metadata": {},
   "outputs": [
    {
     "name": "stderr",
     "output_type": "stream",
     "text": [
      "C:\\Users\\Hugo\\Anaconda3\\lib\\site-packages\\ipykernel_launcher.py:5: SettingWithCopyWarning: \n",
      "A value is trying to be set on a copy of a slice from a DataFrame\n",
      "\n",
      "See the caveats in the documentation: http://pandas.pydata.org/pandas-docs/stable/indexing.html#indexing-view-versus-copy\n",
      "  \"\"\"\n"
     ]
    },
    {
     "data": {
      "text/html": [
       "<div>\n",
       "<style scoped>\n",
       "    .dataframe tbody tr th:only-of-type {\n",
       "        vertical-align: middle;\n",
       "    }\n",
       "\n",
       "    .dataframe tbody tr th {\n",
       "        vertical-align: top;\n",
       "    }\n",
       "\n",
       "    .dataframe thead th {\n",
       "        text-align: right;\n",
       "    }\n",
       "</style>\n",
       "<table border=\"1\" class=\"dataframe\">\n",
       "  <thead>\n",
       "    <tr style=\"text-align: right;\">\n",
       "      <th></th>\n",
       "      <th>High</th>\n",
       "      <th>Low</th>\n",
       "      <th>Open</th>\n",
       "      <th>Close</th>\n",
       "      <th>Volume</th>\n",
       "      <th>Adj Close</th>\n",
       "      <th>Ticker</th>\n",
       "      <th>Log</th>\n",
       "      <th>Returns</th>\n",
       "    </tr>\n",
       "    <tr>\n",
       "      <th>Date</th>\n",
       "      <th></th>\n",
       "      <th></th>\n",
       "      <th></th>\n",
       "      <th></th>\n",
       "      <th></th>\n",
       "      <th></th>\n",
       "      <th></th>\n",
       "      <th></th>\n",
       "      <th></th>\n",
       "    </tr>\n",
       "  </thead>\n",
       "  <tbody>\n",
       "    <tr>\n",
       "      <th>2010-01-04</th>\n",
       "      <td>83.449997</td>\n",
       "      <td>82.669998</td>\n",
       "      <td>83.089996</td>\n",
       "      <td>83.019997</td>\n",
       "      <td>3043700.0</td>\n",
       "      <td>65.798973</td>\n",
       "      <td>MMM</td>\n",
       "      <td>4.186604</td>\n",
       "      <td>-0.006283</td>\n",
       "    </tr>\n",
       "    <tr>\n",
       "      <th>2010-01-05</th>\n",
       "      <td>83.230003</td>\n",
       "      <td>81.699997</td>\n",
       "      <td>82.800003</td>\n",
       "      <td>82.500000</td>\n",
       "      <td>2847000.0</td>\n",
       "      <td>65.386833</td>\n",
       "      <td>MMM</td>\n",
       "      <td>4.180321</td>\n",
       "      <td>-0.006283</td>\n",
       "    </tr>\n",
       "    <tr>\n",
       "      <th>2010-01-06</th>\n",
       "      <td>84.599998</td>\n",
       "      <td>83.510002</td>\n",
       "      <td>83.879997</td>\n",
       "      <td>83.669998</td>\n",
       "      <td>5268500.0</td>\n",
       "      <td>66.314133</td>\n",
       "      <td>MMM</td>\n",
       "      <td>4.194403</td>\n",
       "      <td>0.014082</td>\n",
       "    </tr>\n",
       "    <tr>\n",
       "      <th>2010-01-07</th>\n",
       "      <td>83.760002</td>\n",
       "      <td>82.120003</td>\n",
       "      <td>83.320000</td>\n",
       "      <td>83.730003</td>\n",
       "      <td>4470100.0</td>\n",
       "      <td>66.361694</td>\n",
       "      <td>MMM</td>\n",
       "      <td>4.195120</td>\n",
       "      <td>0.000717</td>\n",
       "    </tr>\n",
       "    <tr>\n",
       "      <th>2010-01-08</th>\n",
       "      <td>84.320000</td>\n",
       "      <td>83.300003</td>\n",
       "      <td>83.690002</td>\n",
       "      <td>84.320000</td>\n",
       "      <td>3405800.0</td>\n",
       "      <td>66.829300</td>\n",
       "      <td>MMM</td>\n",
       "      <td>4.202142</td>\n",
       "      <td>0.007022</td>\n",
       "    </tr>\n",
       "  </tbody>\n",
       "</table>\n",
       "</div>"
      ],
      "text/plain": [
       "                 High        Low       Open      Close     Volume  Adj Close  \\\n",
       "Date                                                                           \n",
       "2010-01-04  83.449997  82.669998  83.089996  83.019997  3043700.0  65.798973   \n",
       "2010-01-05  83.230003  81.699997  82.800003  82.500000  2847000.0  65.386833   \n",
       "2010-01-06  84.599998  83.510002  83.879997  83.669998  5268500.0  66.314133   \n",
       "2010-01-07  83.760002  82.120003  83.320000  83.730003  4470100.0  66.361694   \n",
       "2010-01-08  84.320000  83.300003  83.690002  84.320000  3405800.0  66.829300   \n",
       "\n",
       "           Ticker       Log   Returns  \n",
       "Date                                   \n",
       "2010-01-04    MMM  4.186604 -0.006283  \n",
       "2010-01-05    MMM  4.180321 -0.006283  \n",
       "2010-01-06    MMM  4.194403  0.014082  \n",
       "2010-01-07    MMM  4.195120  0.000717  \n",
       "2010-01-08    MMM  4.202142  0.007022  "
      ]
     },
     "execution_count": 5,
     "metadata": {},
     "output_type": "execute_result"
    }
   ],
   "source": [
    "#We compute the log returns\n",
    "for stock in stocks_data:\n",
    "    stock[\"Log\"] = np.log(stock[\"Adj Close\"])\n",
    "    stock[\"Returns\"] = stock[\"Log\"].diff()\n",
    "    stock[\"Returns\"][0] = stock[\"Returns\"][1]\n",
    "\n",
    "stocks_data[0].head()"
   ]
  },
  {
   "cell_type": "code",
   "execution_count": 6,
   "metadata": {},
   "outputs": [
    {
     "data": {
      "text/html": [
       "<div>\n",
       "<style scoped>\n",
       "    .dataframe tbody tr th:only-of-type {\n",
       "        vertical-align: middle;\n",
       "    }\n",
       "\n",
       "    .dataframe tbody tr th {\n",
       "        vertical-align: top;\n",
       "    }\n",
       "\n",
       "    .dataframe thead th {\n",
       "        text-align: right;\n",
       "    }\n",
       "</style>\n",
       "<table border=\"1\" class=\"dataframe\">\n",
       "  <thead>\n",
       "    <tr style=\"text-align: right;\">\n",
       "      <th></th>\n",
       "      <th>Mkt-RF</th>\n",
       "      <th>SMB</th>\n",
       "      <th>HML</th>\n",
       "      <th>RMW</th>\n",
       "      <th>CMA</th>\n",
       "      <th>RF</th>\n",
       "    </tr>\n",
       "  </thead>\n",
       "  <tbody>\n",
       "    <tr>\n",
       "      <th>19630701</th>\n",
       "      <td>-0.67</td>\n",
       "      <td>0.00</td>\n",
       "      <td>-0.32</td>\n",
       "      <td>-0.01</td>\n",
       "      <td>0.15</td>\n",
       "      <td>0.012</td>\n",
       "    </tr>\n",
       "    <tr>\n",
       "      <th>19630702</th>\n",
       "      <td>0.79</td>\n",
       "      <td>-0.27</td>\n",
       "      <td>0.27</td>\n",
       "      <td>-0.07</td>\n",
       "      <td>-0.19</td>\n",
       "      <td>0.012</td>\n",
       "    </tr>\n",
       "    <tr>\n",
       "      <th>19630703</th>\n",
       "      <td>0.63</td>\n",
       "      <td>-0.17</td>\n",
       "      <td>-0.09</td>\n",
       "      <td>0.17</td>\n",
       "      <td>-0.33</td>\n",
       "      <td>0.012</td>\n",
       "    </tr>\n",
       "    <tr>\n",
       "      <th>19630705</th>\n",
       "      <td>0.40</td>\n",
       "      <td>0.08</td>\n",
       "      <td>-0.28</td>\n",
       "      <td>0.08</td>\n",
       "      <td>-0.33</td>\n",
       "      <td>0.012</td>\n",
       "    </tr>\n",
       "    <tr>\n",
       "      <th>19630708</th>\n",
       "      <td>-0.63</td>\n",
       "      <td>0.04</td>\n",
       "      <td>-0.18</td>\n",
       "      <td>-0.29</td>\n",
       "      <td>0.13</td>\n",
       "      <td>0.012</td>\n",
       "    </tr>\n",
       "  </tbody>\n",
       "</table>\n",
       "</div>"
      ],
      "text/plain": [
       "          Mkt-RF   SMB   HML   RMW   CMA     RF\n",
       "19630701   -0.67  0.00 -0.32 -0.01  0.15  0.012\n",
       "19630702    0.79 -0.27  0.27 -0.07 -0.19  0.012\n",
       "19630703    0.63 -0.17 -0.09  0.17 -0.33  0.012\n",
       "19630705    0.40  0.08 -0.28  0.08 -0.33  0.012\n",
       "19630708   -0.63  0.04 -0.18 -0.29  0.13  0.012"
      ]
     },
     "execution_count": 6,
     "metadata": {},
     "output_type": "execute_result"
    }
   ],
   "source": [
    "dfcsv = pd.read_csv('Data/F-F_Research_Data_5_Factors_2x3_daily.csv', header=2, index_col = 0)\n",
    "dfcsv.head()"
   ]
  },
  {
   "cell_type": "markdown",
   "metadata": {},
   "source": [
    "<h2>Question1</h2>"
   ]
  },
  {
   "cell_type": "code",
   "execution_count": 7,
   "metadata": {},
   "outputs": [
    {
     "data": {
      "text/html": [
       "<div>\n",
       "<style scoped>\n",
       "    .dataframe tbody tr th:only-of-type {\n",
       "        vertical-align: middle;\n",
       "    }\n",
       "\n",
       "    .dataframe tbody tr th {\n",
       "        vertical-align: top;\n",
       "    }\n",
       "\n",
       "    .dataframe thead th {\n",
       "        text-align: right;\n",
       "    }\n",
       "</style>\n",
       "<table border=\"1\" class=\"dataframe\">\n",
       "  <thead>\n",
       "    <tr style=\"text-align: right;\">\n",
       "      <th></th>\n",
       "      <th>logreturns</th>\n",
       "      <th>Mkt-RF</th>\n",
       "      <th>SMB</th>\n",
       "      <th>HML</th>\n",
       "      <th>RMW</th>\n",
       "      <th>CMA</th>\n",
       "      <th>RF</th>\n",
       "    </tr>\n",
       "    <tr>\n",
       "      <th>Date</th>\n",
       "      <th></th>\n",
       "      <th></th>\n",
       "      <th></th>\n",
       "      <th></th>\n",
       "      <th></th>\n",
       "      <th></th>\n",
       "      <th></th>\n",
       "    </tr>\n",
       "  </thead>\n",
       "  <tbody>\n",
       "    <tr>\n",
       "      <th>2010-01-04</th>\n",
       "      <td>-0.00628332</td>\n",
       "      <td>1.69</td>\n",
       "      <td>0.75</td>\n",
       "      <td>1.12</td>\n",
       "      <td>-0.22</td>\n",
       "      <td>0.21</td>\n",
       "      <td>0</td>\n",
       "    </tr>\n",
       "    <tr>\n",
       "      <th>2010-01-05</th>\n",
       "      <td>-0.00628332</td>\n",
       "      <td>0.31</td>\n",
       "      <td>-0.37</td>\n",
       "      <td>1.22</td>\n",
       "      <td>-0.11</td>\n",
       "      <td>0.18</td>\n",
       "      <td>0</td>\n",
       "    </tr>\n",
       "    <tr>\n",
       "      <th>2010-01-06</th>\n",
       "      <td>0.0140821</td>\n",
       "      <td>0.13</td>\n",
       "      <td>-0.16</td>\n",
       "      <td>0.52</td>\n",
       "      <td>-0.03</td>\n",
       "      <td>0.2</td>\n",
       "      <td>0</td>\n",
       "    </tr>\n",
       "    <tr>\n",
       "      <th>2010-01-07</th>\n",
       "      <td>0.00071696</td>\n",
       "      <td>0.4</td>\n",
       "      <td>0.24</td>\n",
       "      <td>0.94</td>\n",
       "      <td>-0.62</td>\n",
       "      <td>0.23</td>\n",
       "      <td>0</td>\n",
       "    </tr>\n",
       "    <tr>\n",
       "      <th>2010-01-08</th>\n",
       "      <td>0.00702161</td>\n",
       "      <td>0.33</td>\n",
       "      <td>0.34</td>\n",
       "      <td>0.01</td>\n",
       "      <td>0.25</td>\n",
       "      <td>-0.38</td>\n",
       "      <td>0</td>\n",
       "    </tr>\n",
       "  </tbody>\n",
       "</table>\n",
       "</div>"
      ],
      "text/plain": [
       "            logreturns Mkt-RF   SMB   HML   RMW   CMA RF\n",
       "Date                                                    \n",
       "2010-01-04 -0.00628332   1.69  0.75  1.12 -0.22  0.21  0\n",
       "2010-01-05 -0.00628332   0.31 -0.37  1.22 -0.11  0.18  0\n",
       "2010-01-06   0.0140821   0.13 -0.16  0.52 -0.03   0.2  0\n",
       "2010-01-07  0.00071696    0.4  0.24  0.94 -0.62  0.23  0\n",
       "2010-01-08  0.00702161   0.33  0.34  0.01  0.25 -0.38  0"
      ]
     },
     "execution_count": 7,
     "metadata": {},
     "output_type": "execute_result"
    }
   ],
   "source": [
    "#We create a list of dataframe listRegressiondf where each dataframe contains logreturns \n",
    "#of a company and coefficient that we will use for our linear regression\n",
    "listRegressiondf = []\n",
    "for stock in stocks_data:\n",
    "    df = stock.loc[:, ['Returns']]\n",
    "    df = df.reset_index()\n",
    "    returnArray = df.values\n",
    "    coeffdf = dfcsv.iloc[-len(df):,:]\n",
    "    coeffArray = coeffdf.values\n",
    "    finalArray = np.concatenate([returnArray, coeffArray], axis = 1)\n",
    "    regressiondf = pd.DataFrame(finalArray, columns = ['Date','logreturns','Mkt-RF','SMB','HML','RMW','CMA','RF'])\n",
    "    regressiondf = regressiondf.set_index('Date')\n",
    "    listRegressiondf.append(regressiondf)\n",
    "\n",
    "listRegressiondf[0].head()"
   ]
  },
  {
   "cell_type": "code",
   "execution_count": 191,
   "metadata": {},
   "outputs": [
    {
     "data": {
      "text/html": [
       "<div>\n",
       "<style scoped>\n",
       "    .dataframe tbody tr th:only-of-type {\n",
       "        vertical-align: middle;\n",
       "    }\n",
       "\n",
       "    .dataframe tbody tr th {\n",
       "        vertical-align: top;\n",
       "    }\n",
       "\n",
       "    .dataframe thead th {\n",
       "        text-align: right;\n",
       "    }\n",
       "</style>\n",
       "<table border=\"1\" class=\"dataframe\">\n",
       "  <thead>\n",
       "    <tr style=\"text-align: right;\">\n",
       "      <th></th>\n",
       "      <th>coeffMkt-RF</th>\n",
       "      <th>coeffSMB</th>\n",
       "      <th>coeffHML</th>\n",
       "      <th>coeffRMW</th>\n",
       "      <th>coeffCMA</th>\n",
       "      <th>coeffRF</th>\n",
       "      <th>constant</th>\n",
       "      <th>R²</th>\n",
       "      <th>Ticker</th>\n",
       "    </tr>\n",
       "  </thead>\n",
       "  <tbody>\n",
       "    <tr>\n",
       "      <th>0</th>\n",
       "      <td>0.010292189473692339</td>\n",
       "      <td>-0.0014985767157733726</td>\n",
       "      <td>-0.0007646786230472078</td>\n",
       "      <td>0.0029789570224156964</td>\n",
       "      <td>0.003617561005104106</td>\n",
       "      <td>-0.03893244957614439</td>\n",
       "      <td>-3.5954431606153095e-06</td>\n",
       "      <td>0.6124243282371491</td>\n",
       "      <td>MMM</td>\n",
       "    </tr>\n",
       "    <tr>\n",
       "      <th>1</th>\n",
       "      <td>0.008755589948271528</td>\n",
       "      <td>-0.003262034928812294</td>\n",
       "      <td>-0.004282394025402299</td>\n",
       "      <td>0.0007652840287953594</td>\n",
       "      <td>0.0022380015095530515</td>\n",
       "      <td>0.10839584530655208</td>\n",
       "      <td>-4.3412864600051544e-05</td>\n",
       "      <td>0.44326478279417214</td>\n",
       "      <td>ABT</td>\n",
       "    </tr>\n",
       "    <tr>\n",
       "      <th>2</th>\n",
       "      <td>0.010284620655099053</td>\n",
       "      <td>-0.001271230285234439</td>\n",
       "      <td>-0.006658613744345996</td>\n",
       "      <td>-0.0028519337039489387</td>\n",
       "      <td>0.0029434058533642717</td>\n",
       "      <td>-0.13960920785318032</td>\n",
       "      <td>0.00036185794473999775</td>\n",
       "      <td>0.2869047335060543</td>\n",
       "      <td>ABBV</td>\n",
       "    </tr>\n",
       "    <tr>\n",
       "      <th>3</th>\n",
       "      <td>0.010616992531446944</td>\n",
       "      <td>0.005155397641298241</td>\n",
       "      <td>-0.010736634208115827</td>\n",
       "      <td>-0.01171459465314883</td>\n",
       "      <td>-0.0014016812239717534</td>\n",
       "      <td>-0.15954328334597273</td>\n",
       "      <td>0.0011252249359401999</td>\n",
       "      <td>0.235830297206444</td>\n",
       "      <td>ABMD</td>\n",
       "    </tr>\n",
       "    <tr>\n",
       "      <th>4</th>\n",
       "      <td>0.010544068666227284</td>\n",
       "      <td>-0.0015231490339896864</td>\n",
       "      <td>-0.0014646195704086568</td>\n",
       "      <td>0.002004652736963385</td>\n",
       "      <td>-0.001079052852210636</td>\n",
       "      <td>0.0037965725573560418</td>\n",
       "      <td>0.0001269105617886908</td>\n",
       "      <td>0.5087114360851821</td>\n",
       "      <td>ACN</td>\n",
       "    </tr>\n",
       "  </tbody>\n",
       "</table>\n",
       "</div>"
      ],
      "text/plain": [
       "            coeffMkt-RF                coeffSMB                coeffHML  \\\n",
       "0  0.010292189473692339  -0.0014985767157733726  -0.0007646786230472078   \n",
       "1  0.008755589948271528   -0.003262034928812294   -0.004282394025402299   \n",
       "2  0.010284620655099053   -0.001271230285234439   -0.006658613744345996   \n",
       "3  0.010616992531446944    0.005155397641298241   -0.010736634208115827   \n",
       "4  0.010544068666227284  -0.0015231490339896864  -0.0014646195704086568   \n",
       "\n",
       "                 coeffRMW                coeffCMA                coeffRF  \\\n",
       "0   0.0029789570224156964    0.003617561005104106   -0.03893244957614439   \n",
       "1   0.0007652840287953594   0.0022380015095530515    0.10839584530655208   \n",
       "2  -0.0028519337039489387   0.0029434058533642717   -0.13960920785318032   \n",
       "3    -0.01171459465314883  -0.0014016812239717534   -0.15954328334597273   \n",
       "4    0.002004652736963385   -0.001079052852210636  0.0037965725573560418   \n",
       "\n",
       "                  constant                   R² Ticker  \n",
       "0  -3.5954431606153095e-06   0.6124243282371491    MMM  \n",
       "1  -4.3412864600051544e-05  0.44326478279417214    ABT  \n",
       "2   0.00036185794473999775   0.2869047335060543   ABBV  \n",
       "3    0.0011252249359401999    0.235830297206444   ABMD  \n",
       "4    0.0001269105617886908   0.5087114360851821    ACN  "
      ]
     },
     "execution_count": 191,
     "metadata": {},
     "output_type": "execute_result"
    }
   ],
   "source": [
    "#We do a loop and a regression on datas of each company\n",
    "#We store them in an array\n",
    "coeffArray = []\n",
    "i = 0\n",
    "for stock in listRegressiondf:\n",
    "    X = stock.loc[:,['Mkt-RF','SMB','HML','RMW','CMA','RF']]\n",
    "    X = X.values\n",
    "    y = stock.loc[:,'logreturns']\n",
    "    y = y.values\n",
    "    reg = LinearRegression().fit(X, y)\n",
    "    array = reg.coef_\n",
    "    array = np.append(array,reg.intercept_)\n",
    "    array = np.append(array, r2_score(y, reg.predict(X)))\n",
    "    array = np.append(array, tickerList[i])\n",
    "    coeffArray.append(array)\n",
    "    i+=1\n",
    "    \n",
    "coeffArray = np.array(coeffArray)\n",
    "coeffdf = pd.DataFrame(coeffArray, columns = ['coeffMkt-RF','coeffSMB','coeffHML','coeffRMW','coeffCMA','coeffRF','constant','R²','Ticker'])\n",
    "coeffdf.head()"
   ]
  },
  {
   "cell_type": "markdown",
   "metadata": {},
   "source": [
    "<h2>Question2</h2>"
   ]
  },
  {
   "cell_type": "code",
   "execution_count": 109,
   "metadata": {},
   "outputs": [
    {
     "data": {
      "text/html": [
       "<div>\n",
       "<style scoped>\n",
       "    .dataframe tbody tr th:only-of-type {\n",
       "        vertical-align: middle;\n",
       "    }\n",
       "\n",
       "    .dataframe tbody tr th {\n",
       "        vertical-align: top;\n",
       "    }\n",
       "\n",
       "    .dataframe thead th {\n",
       "        text-align: right;\n",
       "    }\n",
       "</style>\n",
       "<table border=\"1\" class=\"dataframe\">\n",
       "  <thead>\n",
       "    <tr style=\"text-align: right;\">\n",
       "      <th></th>\n",
       "      <th>Mean</th>\n",
       "      <th>std</th>\n",
       "      <th>skew</th>\n",
       "      <th>kurtosis</th>\n",
       "    </tr>\n",
       "  </thead>\n",
       "  <tbody>\n",
       "    <tr>\n",
       "      <th>coeffMkt-RF</th>\n",
       "      <td>0.010154</td>\n",
       "      <td>0.002286</td>\n",
       "      <td>-0.511031</td>\n",
       "      <td>2.811038</td>\n",
       "    </tr>\n",
       "    <tr>\n",
       "      <th>coeffSMB</th>\n",
       "      <td>0.000755</td>\n",
       "      <td>0.002613</td>\n",
       "      <td>0.433857</td>\n",
       "      <td>0.319243</td>\n",
       "    </tr>\n",
       "    <tr>\n",
       "      <th>coeffHML</th>\n",
       "      <td>0.000096</td>\n",
       "      <td>0.004906</td>\n",
       "      <td>1.217401</td>\n",
       "      <td>2.775669</td>\n",
       "    </tr>\n",
       "    <tr>\n",
       "      <th>coeffRMW</th>\n",
       "      <td>0.000363</td>\n",
       "      <td>0.004355</td>\n",
       "      <td>-0.697657</td>\n",
       "      <td>1.944863</td>\n",
       "    </tr>\n",
       "    <tr>\n",
       "      <th>coeffCMA</th>\n",
       "      <td>0.001696</td>\n",
       "      <td>0.005050</td>\n",
       "      <td>-0.905361</td>\n",
       "      <td>1.938420</td>\n",
       "    </tr>\n",
       "    <tr>\n",
       "      <th>coeffRF</th>\n",
       "      <td>-0.006651</td>\n",
       "      <td>0.217990</td>\n",
       "      <td>2.421858</td>\n",
       "      <td>74.822482</td>\n",
       "    </tr>\n",
       "    <tr>\n",
       "      <th>R²</th>\n",
       "      <td>0.391185</td>\n",
       "      <td>0.140954</td>\n",
       "      <td>0.458424</td>\n",
       "      <td>0.144940</td>\n",
       "    </tr>\n",
       "  </tbody>\n",
       "</table>\n",
       "</div>"
      ],
      "text/plain": [
       "                 Mean       std      skew   kurtosis\n",
       "coeffMkt-RF  0.010154  0.002286 -0.511031   2.811038\n",
       "coeffSMB     0.000755  0.002613  0.433857   0.319243\n",
       "coeffHML     0.000096  0.004906  1.217401   2.775669\n",
       "coeffRMW     0.000363  0.004355 -0.697657   1.944863\n",
       "coeffCMA     0.001696  0.005050 -0.905361   1.938420\n",
       "coeffRF     -0.006651  0.217990  2.421858  74.822482\n",
       "R²           0.391185  0.140954  0.458424   0.144940"
      ]
     },
     "execution_count": 109,
     "metadata": {},
     "output_type": "execute_result"
    }
   ],
   "source": [
    "statsArray = []\n",
    "index = np.array(['coeffMkt-RF','coeffSMB','coeffHML','coeffRMW','coeffCMA','coeffRF','R²'])\n",
    "for coeff in coeffArray.transpose():\n",
    "    statsArray.append([coeff.mean(),coeff.std(),stats.skew(coeff),stats.kurtosis(coeff)])\n",
    "    \n",
    "statsArray = np.array(statsArray)\n",
    "statsdf = pd.DataFrame(statsArray, index = index, columns = ['Mean','std','skew','kurtosis'])\n",
    "statsdf"
   ]
  },
  {
   "cell_type": "markdown",
   "metadata": {},
   "source": [
    "<h2>Question3</h2>"
   ]
  },
  {
   "cell_type": "code",
   "execution_count": 166,
   "metadata": {},
   "outputs": [
    {
     "data": {
      "image/png": "[encoded data removed]",
      "text/plain": [
       "<Figure size 432x288 with 1 Axes>"
      ]
     },
     "metadata": {
      "needs_background": "light"
     },
     "output_type": "display_data"
    }
   ],
   "source": [
    "x = coeffArray.transpose()[0]\n",
    "sigma = np.std(x)\n",
    "mu = np.mean(x)\n",
    "count, bins, ignored = plt.hist(x, 30, density=True)\n",
    "plt.plot(bins, 1/(sigma * np.sqrt(2 * np.pi)) * np.exp( - (bins - mu)**2 / (2 * sigma**2) ), linewidth=2, color='r')\n",
    "plt.axvline(x.mean(), color='k', linestyle='dashed', linewidth=1)\n",
    "plt.xlabel('coeffMkt-RF')\n",
    "plt.ylabel('nombres')\n",
    "plt.title('Histogramme de coeffMkt-RF')\n",
    "plt.show()"
   ]
  },
  {
   "cell_type": "code",
   "execution_count": 167,
   "metadata": {},
   "outputs": [
    {
     "data": {
      "image/png": "[encoded data removed]",
      "text/plain": [
       "<Figure size 432x288 with 1 Axes>"
      ]
     },
     "metadata": {
      "needs_background": "light"
     },
     "output_type": "display_data"
    }
   ],
   "source": [
    "x = coeffArray.transpose()[1]\n",
    "sigma = np.std(x)\n",
    "mu = np.mean(x)\n",
    "count, bins, ignored = plt.hist(x, 30, density=True)\n",
    "plt.plot(bins, 1/(sigma * np.sqrt(2 * np.pi)) * np.exp( - (bins - mu)**2 / (2 * sigma**2) ), linewidth=2, color='r')\n",
    "plt.axvline(x.mean(), color='k', linestyle='dashed', linewidth=1)\n",
    "plt.xlabel('coeffSMB')\n",
    "plt.ylabel('nombres')\n",
    "plt.title('Histogramme de coeffSMB')\n",
    "plt.show()"
   ]
  },
  {
   "cell_type": "code",
   "execution_count": 168,
   "metadata": {},
   "outputs": [
    {
     "data": {
      "image/png": "[encoded data removed]",
      "text/plain": [
       "<Figure size 432x288 with 1 Axes>"
      ]
     },
     "metadata": {
      "needs_background": "light"
     },
     "output_type": "display_data"
    }
   ],
   "source": [
    "x = coeffArray.transpose()[2]\n",
    "sigma = np.std(x)\n",
    "mu = np.mean(x)\n",
    "count, bins, ignored = plt.hist(x, 30, density=True)\n",
    "plt.plot(bins, 1/(sigma * np.sqrt(2 * np.pi)) * np.exp( - (bins - mu)**2 / (2 * sigma**2) ), linewidth=2, color='r')\n",
    "plt.axvline(x.mean(), color='k', linestyle='dashed', linewidth=1)\n",
    "plt.xlabel('coeffHML')\n",
    "plt.ylabel('nombres')\n",
    "plt.title('Histogramme de coeffHML')\n",
    "plt.show()"
   ]
  },
  {
   "cell_type": "code",
   "execution_count": 169,
   "metadata": {},
   "outputs": [
    {
     "data": {
      "image/png": "[encoded data removed]",
      "text/plain": [
       "<Figure size 432x288 with 1 Axes>"
      ]
     },
     "metadata": {
      "needs_background": "light"
     },
     "output_type": "display_data"
    }
   ],
   "source": [
    "x = coeffArray.transpose()[3]\n",
    "sigma = np.std(x)\n",
    "mu = np.mean(x)\n",
    "count, bins, ignored = plt.hist(x, 30, density=True)\n",
    "plt.plot(bins, 1/(sigma * np.sqrt(2 * np.pi)) * np.exp( - (bins - mu)**2 / (2 * sigma**2) ), linewidth=2, color='r')\n",
    "plt.axvline(x.mean(), color='k', linestyle='dashed', linewidth=1)\n",
    "plt.xlabel('coeffRMW')\n",
    "plt.ylabel('nombres')\n",
    "plt.title('Histogramme de coeffRMW')\n",
    "plt.show()"
   ]
  },
  {
   "cell_type": "code",
   "execution_count": 170,
   "metadata": {},
   "outputs": [
    {
     "data": {
      "image/png": "[encoded data removed]",
      "text/plain": [
       "<Figure size 432x288 with 1 Axes>"
      ]
     },
     "metadata": {
      "needs_background": "light"
     },
     "output_type": "display_data"
    }
   ],
   "source": [
    "x = coeffArray.transpose()[4]\n",
    "sigma = np.std(x)\n",
    "mu = np.mean(x)\n",
    "count, bins, ignored = plt.hist(x, 30, density=True)\n",
    "plt.plot(bins, 1/(sigma * np.sqrt(2 * np.pi)) * np.exp( - (bins - mu)**2 / (2 * sigma**2) ), linewidth=2, color='r')\n",
    "plt.axvline(x.mean(), color='k', linestyle='dashed', linewidth=1)\n",
    "plt.xlabel('coeffCMA')\n",
    "plt.ylabel('nombres')\n",
    "plt.title('Histogramme de coeffCMA')\n",
    "plt.show()"
   ]
  },
  {
   "cell_type": "code",
   "execution_count": 176,
   "metadata": {},
   "outputs": [
    {
     "data": {
      "image/png": "[encoded data removed]",
      "text/plain": [
       "<Figure size 432x288 with 1 Axes>"
      ]
     },
     "metadata": {
      "needs_background": "light"
     },
     "output_type": "display_data"
    }
   ],
   "source": [
    "x = coeffArray.transpose()[5]\n",
    "sigma = np.std(x)\n",
    "mu = np.mean(x)\n",
    "count, bins, ignored = plt.hist(x, 30, density=True)\n",
    "plt.plot(bins, 1/(sigma * np.sqrt(2 * np.pi)) * np.exp( - (bins - mu)**2 / (2 * sigma**2) ), linewidth=2, color='r')\n",
    "plt.axvline(x.mean(), color='k', linestyle='dashed', linewidth=1)\n",
    "plt.xlabel('coeffRF')\n",
    "plt.title('Histogramme de coeffRF')\n",
    "plt.show()"
   ]
  },
  {
   "cell_type": "code",
   "execution_count": 178,
   "metadata": {},
   "outputs": [
    {
     "data": {
      "image/png": "[encoded data removed]",
      "text/plain": [
       "<Figure size 432x288 with 1 Axes>"
      ]
     },
     "metadata": {
      "needs_background": "light"
     },
     "output_type": "display_data"
    }
   ],
   "source": [
    "x = coeffArray.transpose()[6]\n",
    "sigma = np.std(x)\n",
    "mu = np.mean(x)\n",
    "count, bins, ignored = plt.hist(x, 30, density=True)\n",
    "plt.plot(bins, 1/(sigma * np.sqrt(2 * np.pi)) * np.exp( - (bins - mu)**2 / (2 * sigma**2) ), linewidth=2, color='r')\n",
    "plt.axvline(x.mean(), color='k', linestyle='dashed', linewidth=1)\n",
    "plt.xlabel('R²')\n",
    "plt.title('Histogramme de R²')\n",
    "plt.show()"
   ]
  },
  {
   "cell_type": "markdown",
   "metadata": {},
   "source": [
    "Coefficients and R² have a distribution near to a gaussian distribution."
   ]
  },
  {
   "cell_type": "markdown",
   "metadata": {},
   "source": [
    "<h2>Question4</h2>"
   ]
  },
  {
   "cell_type": "code",
   "execution_count": 215,
   "metadata": {},
   "outputs": [
    {
     "name": "stderr",
     "output_type": "stream",
     "text": [
      "C:\\Users\\Hugo\\Anaconda3\\lib\\site-packages\\ipykernel_launcher.py:2: SettingWithCopyWarning: \n",
      "A value is trying to be set on a copy of a slice from a DataFrame.\n",
      "Try using .loc[row_indexer,col_indexer] = value instead\n",
      "\n",
      "See the caveats in the documentation: http://pandas.pydata.org/pandas-docs/stable/indexing.html#indexing-view-versus-copy\n",
      "  \n"
     ]
    },
    {
     "data": {
      "text/html": [
       "<div>\n",
       "<style scoped>\n",
       "    .dataframe tbody tr th:only-of-type {\n",
       "        vertical-align: middle;\n",
       "    }\n",
       "\n",
       "    .dataframe tbody tr th {\n",
       "        vertical-align: top;\n",
       "    }\n",
       "\n",
       "    .dataframe thead th {\n",
       "        text-align: right;\n",
       "    }\n",
       "</style>\n",
       "<table border=\"1\" class=\"dataframe\">\n",
       "  <thead>\n",
       "    <tr style=\"text-align: right;\">\n",
       "      <th></th>\n",
       "      <th>constant</th>\n",
       "      <th>Ticker</th>\n",
       "    </tr>\n",
       "  </thead>\n",
       "  <tbody>\n",
       "    <tr>\n",
       "      <th>128</th>\n",
       "      <td>-0.00010147035814644234</td>\n",
       "      <td>CXO</td>\n",
       "    </tr>\n",
       "    <tr>\n",
       "      <th>462</th>\n",
       "      <td>-0.00010245599969682938</td>\n",
       "      <td>UPS</td>\n",
       "    </tr>\n",
       "    <tr>\n",
       "      <th>360</th>\n",
       "      <td>-0.00010342659537206995</td>\n",
       "      <td>OMC</td>\n",
       "    </tr>\n",
       "    <tr>\n",
       "      <th>352</th>\n",
       "      <td>-0.00011021233089180131</td>\n",
       "      <td>NTRS</td>\n",
       "    </tr>\n",
       "    <tr>\n",
       "      <th>426</th>\n",
       "      <td>-0.00011470732289854438</td>\n",
       "      <td>STT</td>\n",
       "    </tr>\n",
       "  </tbody>\n",
       "</table>\n",
       "</div>"
      ],
      "text/plain": [
       "                    constant Ticker\n",
       "128  -0.00010147035814644234    CXO\n",
       "462  -0.00010245599969682938    UPS\n",
       "360  -0.00010342659537206995    OMC\n",
       "352  -0.00011021233089180131   NTRS\n",
       "426  -0.00011470732289854438    STT"
      ]
     },
     "execution_count": 215,
     "metadata": {},
     "output_type": "execute_result"
    }
   ],
   "source": [
    "sortdf = coeffdf[['constant','Ticker']]\n",
    "sortdf['constant'] = sortdf['constant']\n",
    "sortdf = sortdf.sort_values(by = 'constant')\n",
    "sortdf.head()"
   ]
  },
  {
   "cell_type": "code",
   "execution_count": 210,
   "metadata": {},
   "outputs": [
    {
     "name": "stdout",
     "output_type": "stream",
     "text": [
      "The five company withe the lowest constant are:\n",
      "CXO\n",
      "UPS\n",
      "OMC\n",
      "NTRS\n",
      "STT\n"
     ]
    }
   ],
   "source": [
    "print(\"The five companies withe the lowest constant are:\")\n",
    "for i in sortdf.iloc[:5]['Ticker']:\n",
    "    print(i)"
   ]
  },
  {
   "cell_type": "code",
   "execution_count": 213,
   "metadata": {},
   "outputs": [
    {
     "name": "stdout",
     "output_type": "stream",
     "text": [
      "The five company withe the highest constant are:\n",
      "CCI\n",
      "TMO\n",
      "PM\n",
      "AMT\n",
      "FOXA\n"
     ]
    }
   ],
   "source": [
    "print(\"The five companies withe the highest constant are:\")\n",
    "for i in sortdf.iloc[-5:]['Ticker']:\n",
    "    print(i)"
   ]
  }
 ],
 "metadata": {
  "kernelspec": {
   "display_name": "Python 3",
   "language": "python",
   "name": "python3"
  },
  "language_info": {
   "codemirror_mode": {
    "name": "ipython",
    "version": 3
   },
   "file_extension": ".py",
   "mimetype": "text/x-python",
   "name": "python",
   "nbconvert_exporter": "python",
   "pygments_lexer": "ipython3",
   "version": "3.6.7"
  }
 },
 "nbformat": 4,
 "nbformat_minor": 2
}
