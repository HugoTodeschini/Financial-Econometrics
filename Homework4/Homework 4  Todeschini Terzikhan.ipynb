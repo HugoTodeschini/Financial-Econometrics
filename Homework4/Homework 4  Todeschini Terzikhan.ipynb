{
 "cells": [
  {
   "cell_type": "markdown",
   "metadata": {},
   "source": [
    "<h1> Question 1 - Importation of tweeets</h1>"
   ]
  },
  {
   "cell_type": "code",
   "execution_count": 342,
   "metadata": {},
   "outputs": [],
   "source": [
    "import GetOldTweets3 as got\n",
    "import pandas as pd\n",
    "import numpy as np\n",
    "import csv\n",
    "import time\n",
    "import matplotlib.pyplot as plt\n",
    "from datetime import date, timedelta\n",
    "import statsmodels.api as sm\n",
    "from pyramid.arima import auto_arima\n",
    "import pandas_datareader\n",
    "from statsmodels.tsa.stattools import acf, pacf\n",
    "\n",
    "#API for text analysis https://developer.aylien.com\n",
    "from aylienapiclient import textapi"
   ]
  },
  {
   "cell_type": "code",
   "execution_count": null,
   "metadata": {},
   "outputs": [],
   "source": [
    "#We are limited by the free API of text analysis so we analyse only tweets of the 3 last months\n",
    "with open(\"data/trump.csv\", 'w', encoding=\"utf-8\") as f:\n",
    "    # Wrap the file object by the writer.\n",
    "    writer = csv.writer(f)\n",
    "    \n",
    "    # Write the header line to the output if needed.\n",
    "    writer.writerow(['Date', 'tweet'])\n",
    "    \n",
    "    start = date(2019, 4, 1)\n",
    "    end = date(2019, 5, 29)\n",
    "    day = timedelta(days=1)\n",
    "\n",
    "    mydate = start\n",
    "    \n",
    "    while mydate < end:\n",
    "        #print(\"{date.day:02}{date.month:02}{date.year}\".format(date=mydate))\n",
    "        \n",
    "        tweetCriteria = got.manager.TweetCriteria().setUsername(\"realDonaldTrump\")\\\n",
    "                                           .setSince((\"{date.year}-{date.month:02}-{date.day:02}\".format(date=mydate)))\\\n",
    "                                           .setUntil((\"{date.year}-{date.month:02}-{date.day:02}\".format(date=mydate+day)))\\\n",
    "                                           .setTopTweets(True)\\\n",
    "                                           .setMaxTweets(240)\n",
    "        \n",
    "        mydate = mydate + day\n",
    "        \n",
    "    \n",
    "        # Loop through the dictionary and get the tuples.\n",
    "        # You may want to sort it somehow. Not shown here.\n",
    "        for tweets in got.manager.TweetManager.getTweets(tweetCriteria):\n",
    "            #writer.writerow(t)\n",
    "\n",
    "            writer.writerow([tweets.date, tweets.text])"
   ]
  },
  {
   "cell_type": "code",
   "execution_count": 291,
   "metadata": {},
   "outputs": [
    {
     "data": {
      "text/html": [
       "<div>\n",
       "<style scoped>\n",
       "    .dataframe tbody tr th:only-of-type {\n",
       "        vertical-align: middle;\n",
       "    }\n",
       "\n",
       "    .dataframe tbody tr th {\n",
       "        vertical-align: top;\n",
       "    }\n",
       "\n",
       "    .dataframe thead th {\n",
       "        text-align: right;\n",
       "    }\n",
       "</style>\n",
       "<table border=\"1\" class=\"dataframe\">\n",
       "  <thead>\n",
       "    <tr style=\"text-align: right;\">\n",
       "      <th></th>\n",
       "      <th>Date</th>\n",
       "      <th>tweet</th>\n",
       "    </tr>\n",
       "  </thead>\n",
       "  <tbody>\n",
       "    <tr>\n",
       "      <th>0</th>\n",
       "      <td>2019-04-01 16:47:16+00:00</td>\n",
       "      <td>Democrats should stop fighting Sen. David Perd...</td>\n",
       "    </tr>\n",
       "    <tr>\n",
       "      <th>1</th>\n",
       "      <td>2019-04-01 14:43:14+00:00</td>\n",
       "      <td>No matter what information is given to the cra...</td>\n",
       "    </tr>\n",
       "    <tr>\n",
       "      <th>2</th>\n",
       "      <td>2019-04-01 13:41:23+00:00</td>\n",
       "      <td>The cost of ObamaCare is far too high for our ...</td>\n",
       "    </tr>\n",
       "    <tr>\n",
       "      <th>3</th>\n",
       "      <td>2019-04-01 13:03:28+00:00</td>\n",
       "      <td>Can you believe that the Radical Left Democrat...</td>\n",
       "    </tr>\n",
       "    <tr>\n",
       "      <th>4</th>\n",
       "      <td>2019-04-01 12:13:29+00:00</td>\n",
       "      <td>Democrats, working with Republicans in Congres...</td>\n",
       "    </tr>\n",
       "  </tbody>\n",
       "</table>\n",
       "</div>"
      ],
      "text/plain": [
       "                        Date  \\\n",
       "0  2019-04-01 16:47:16+00:00   \n",
       "1  2019-04-01 14:43:14+00:00   \n",
       "2  2019-04-01 13:41:23+00:00   \n",
       "3  2019-04-01 13:03:28+00:00   \n",
       "4  2019-04-01 12:13:29+00:00   \n",
       "\n",
       "                                               tweet  \n",
       "0  Democrats should stop fighting Sen. David Perd...  \n",
       "1  No matter what information is given to the cra...  \n",
       "2  The cost of ObamaCare is far too high for our ...  \n",
       "3  Can you believe that the Radical Left Democrat...  \n",
       "4  Democrats, working with Republicans in Congres...  "
      ]
     },
     "execution_count": 291,
     "metadata": {},
     "output_type": "execute_result"
    }
   ],
   "source": [
    "df = pd.read_csv(\"data/trump.csv\")\n",
    "df.head()"
   ]
  },
  {
   "cell_type": "code",
   "execution_count": 292,
   "metadata": {},
   "outputs": [
    {
     "data": {
      "text/plain": [
       "(658, 2)"
      ]
     },
     "execution_count": 292,
     "metadata": {},
     "output_type": "execute_result"
    }
   ],
   "source": [
    "df.shape"
   ]
  },
  {
   "cell_type": "markdown",
   "metadata": {},
   "source": [
    "<h1> Question 2 - Creation of a daily sentiment time serie</h1>"
   ]
  },
  {
   "cell_type": "code",
   "execution_count": 12,
   "metadata": {},
   "outputs": [
    {
     "data": {
      "text/plain": [
       "{'polarity': 'neutral',\n",
       " 'subjectivity': 'subjective',\n",
       " 'text': 'The tree is green',\n",
       " 'polarity_confidence': 0.6618327498435974,\n",
       " 'subjectivity_confidence': 0.9879279463194073}"
      ]
     },
     "execution_count": 12,
     "metadata": {},
     "output_type": "execute_result"
    }
   ],
   "source": [
    "#Test of the API\n",
    "client = textapi.Client(\"f4b7ab05\", \"bd00d1ce1dffc51dff21d2bfbeef6f37\")\n",
    "s = client.Sentiment({'text': 'The tree is green'})\n",
    "s"
   ]
  },
  {
   "cell_type": "code",
   "execution_count": 151,
   "metadata": {},
   "outputs": [
    {
     "data": {
      "text/plain": [
       "{'polarity': 'negative',\n",
       " 'subjectivity': 'subjective',\n",
       " 'text': 'Nothing changes from the Mueller Report. There was insufficient evidence and therefore, in our Country, a person is innocent. The case is closed! Thank you.',\n",
       " 'polarity_confidence': 0.8088650703430176,\n",
       " 'subjectivity_confidence': 1.0}"
      ]
     },
     "execution_count": 151,
     "metadata": {},
     "output_type": "execute_result"
    }
   ],
   "source": [
    "#A tweet from Donald Trump\n",
    "print(client.Sentiment({'text': 'Nothing changes from the Mueller Report. There was insufficient evidence and therefore, in our Country, a person is innocent. The case is closed! Thank you.'}))"
   ]
  },
  {
   "cell_type": "code",
   "execution_count": 133,
   "metadata": {},
   "outputs": [
    {
     "data": {
      "text/plain": [
       "{'polarity': 'positive',\n",
       " 'subjectivity': 'subjective',\n",
       " 'text': 'Just arrived in Colorado. Getting ready to deliver the commencement speech at the Air Force Academy graduation. Very exciting - probably will be broadcast live on TV. They want good ratings!',\n",
       " 'polarity_confidence': 0.9619194269180298,\n",
       " 'subjectivity_confidence': 1.0}"
      ]
     },
     "execution_count": 133,
     "metadata": {},
     "output_type": "execute_result"
    }
   ],
   "source": [
    "print(client.Sentiment({'text': 'Just arrived in Colorado. Getting ready to deliver the commencement speech at the Air Force Academy graduation. Very exciting - probably will be broadcast live on TV. They want good ratings!'}))"
   ]
  },
  {
   "cell_type": "code",
   "execution_count": 45,
   "metadata": {},
   "outputs": [],
   "source": [
    "#Calls of the API are limited for freee users\n",
    "client = textapi.Client(\"f4b7ab05\", \"bd00d1ce1dffc51dff21d2bfbeef6f37\")"
   ]
  },
  {
   "cell_type": "markdown",
   "metadata": {},
   "source": [
    "<p>The API is limited by 1000 calls by day and 60 calls by minute because we use a free version so it is impossible to study a big amount of data like it is ask in the subject. We have to cut the dataframe in different dataframe of 60 lines and wait 60 secondes between 2 calls of the API. That's why we will study only tweets of Donald Trump too.</p>"
   ]
  },
  {
   "cell_type": "code",
   "execution_count": null,
   "metadata": {},
   "outputs": [],
   "source": [
    "df1 = df[0:60]\n",
    "df2 = df[60:120]\n",
    "df3 = df[120:180]\n",
    "df4 = df[180:240]\n",
    "df5 = df[240:300]\n",
    "df6 = df[300:360]\n",
    "df7 = df[360:420]\n",
    "df8 = df[420:480]\n",
    "df9 = df[480:540]\n",
    "df10 = df[540:600]\n",
    "df11 = df[600:660]"
   ]
  },
  {
   "cell_type": "code",
   "execution_count": null,
   "metadata": {},
   "outputs": [],
   "source": [
    "#We call the Sentiment API to analyse tweets\n",
    "df1['polarity'] = df1['tweet'].apply(lambda x: client.Sentiment({'text': x})['polarity'])\n",
    "time.sleep(60)\n",
    "df2['polarity'] = df2['tweet'].apply(lambda x: client.Sentiment({'text': x})['polarity'])\n",
    "time.sleep(60)\n",
    "df3['polarity'] = df3['tweet'].apply(lambda x: client.Sentiment({'text': x})['polarity'])\n",
    "time.sleep(60)\n",
    "df4['polarity'] = df4['tweet'].apply(lambda x: client.Sentiment({'text': x})['polarity'])\n",
    "time.sleep(60)\n",
    "df5['polarity'] = df5['tweet'].apply(lambda x: client.Sentiment({'text': x})['polarity'])\n",
    "time.sleep(60)\n",
    "df6['polarity'] = df6['tweet'].apply(lambda x: client.Sentiment({'text': x})['polarity'])\n",
    "time.sleep(60)\n",
    "df7['polarity'] = df7['tweet'].apply(lambda x: client.Sentiment({'text': x})['polarity'])\n",
    "time.sleep(60)\n",
    "df8['polarity'] = df8['tweet'].apply(lambda x: client.Sentiment({'text': x})['polarity'])\n",
    "time.sleep(60)\n",
    "df9['polarity'] = df9['tweet'].apply(lambda x: client.Sentiment({'text': x})['polarity'])\n",
    "time.sleep(60)\n",
    "df10['polarity'] = df10['tweet'].apply(lambda x: client.Sentiment({'text': x})['polarity'])\n",
    "time.sleep(60)\n",
    "df11['polarity'] = df11['tweet'].apply(lambda x: client.Sentiment({'text': x})['polarity'])"
   ]
  },
  {
   "cell_type": "code",
   "execution_count": 295,
   "metadata": {},
   "outputs": [
    {
     "data": {
      "text/html": [
       "<div>\n",
       "<style scoped>\n",
       "    .dataframe tbody tr th:only-of-type {\n",
       "        vertical-align: middle;\n",
       "    }\n",
       "\n",
       "    .dataframe tbody tr th {\n",
       "        vertical-align: top;\n",
       "    }\n",
       "\n",
       "    .dataframe thead th {\n",
       "        text-align: right;\n",
       "    }\n",
       "</style>\n",
       "<table border=\"1\" class=\"dataframe\">\n",
       "  <thead>\n",
       "    <tr style=\"text-align: right;\">\n",
       "      <th></th>\n",
       "      <th>Date</th>\n",
       "      <th>tweet</th>\n",
       "      <th>polarity</th>\n",
       "    </tr>\n",
       "  </thead>\n",
       "  <tbody>\n",
       "    <tr>\n",
       "      <th>0</th>\n",
       "      <td>2019-04-01 16:47:16+00:00</td>\n",
       "      <td>Democrats should stop fighting Sen. David Perd...</td>\n",
       "      <td>negative</td>\n",
       "    </tr>\n",
       "    <tr>\n",
       "      <th>1</th>\n",
       "      <td>2019-04-01 14:43:14+00:00</td>\n",
       "      <td>No matter what information is given to the cra...</td>\n",
       "      <td>negative</td>\n",
       "    </tr>\n",
       "    <tr>\n",
       "      <th>2</th>\n",
       "      <td>2019-04-01 13:41:23+00:00</td>\n",
       "      <td>The cost of ObamaCare is far too high for our ...</td>\n",
       "      <td>positive</td>\n",
       "    </tr>\n",
       "    <tr>\n",
       "      <th>3</th>\n",
       "      <td>2019-04-01 13:03:28+00:00</td>\n",
       "      <td>Can you believe that the Radical Left Democrat...</td>\n",
       "      <td>negative</td>\n",
       "    </tr>\n",
       "    <tr>\n",
       "      <th>4</th>\n",
       "      <td>2019-04-01 12:13:29+00:00</td>\n",
       "      <td>Democrats, working with Republicans in Congres...</td>\n",
       "      <td>negative</td>\n",
       "    </tr>\n",
       "  </tbody>\n",
       "</table>\n",
       "</div>"
      ],
      "text/plain": [
       "                        Date  \\\n",
       "0  2019-04-01 16:47:16+00:00   \n",
       "1  2019-04-01 14:43:14+00:00   \n",
       "2  2019-04-01 13:41:23+00:00   \n",
       "3  2019-04-01 13:03:28+00:00   \n",
       "4  2019-04-01 12:13:29+00:00   \n",
       "\n",
       "                                               tweet  polarity  \n",
       "0  Democrats should stop fighting Sen. David Perd...  negative  \n",
       "1  No matter what information is given to the cra...  negative  \n",
       "2  The cost of ObamaCare is far too high for our ...  positive  \n",
       "3  Can you believe that the Radical Left Democrat...  negative  \n",
       "4  Democrats, working with Republicans in Congres...  negative  "
      ]
     },
     "execution_count": 295,
     "metadata": {},
     "output_type": "execute_result"
    }
   ],
   "source": [
    "#It returns one polarity value for each tweet that can be  'positive', 'negative' or 'neutral'\n",
    "df1.head()"
   ]
  },
  {
   "cell_type": "code",
   "execution_count": 297,
   "metadata": {},
   "outputs": [],
   "source": [
    "df = pd.concat([df1, df2, df3, df4, df5, df6, df7, df8, df9, df10, df11])"
   ]
  },
  {
   "cell_type": "code",
   "execution_count": 298,
   "metadata": {},
   "outputs": [
    {
     "data": {
      "text/html": [
       "<div>\n",
       "<style scoped>\n",
       "    .dataframe tbody tr th:only-of-type {\n",
       "        vertical-align: middle;\n",
       "    }\n",
       "\n",
       "    .dataframe tbody tr th {\n",
       "        vertical-align: top;\n",
       "    }\n",
       "\n",
       "    .dataframe thead th {\n",
       "        text-align: right;\n",
       "    }\n",
       "</style>\n",
       "<table border=\"1\" class=\"dataframe\">\n",
       "  <thead>\n",
       "    <tr style=\"text-align: right;\">\n",
       "      <th></th>\n",
       "      <th>Date</th>\n",
       "      <th>tweet</th>\n",
       "      <th>polarity</th>\n",
       "      <th>sentiment</th>\n",
       "    </tr>\n",
       "  </thead>\n",
       "  <tbody>\n",
       "    <tr>\n",
       "      <th>0</th>\n",
       "      <td>2019-04-01 16:47:16+00:00</td>\n",
       "      <td>Democrats should stop fighting Sen. David Perd...</td>\n",
       "      <td>negative</td>\n",
       "      <td>-1</td>\n",
       "    </tr>\n",
       "    <tr>\n",
       "      <th>1</th>\n",
       "      <td>2019-04-01 14:43:14+00:00</td>\n",
       "      <td>No matter what information is given to the cra...</td>\n",
       "      <td>negative</td>\n",
       "      <td>-1</td>\n",
       "    </tr>\n",
       "    <tr>\n",
       "      <th>2</th>\n",
       "      <td>2019-04-01 13:41:23+00:00</td>\n",
       "      <td>The cost of ObamaCare is far too high for our ...</td>\n",
       "      <td>positive</td>\n",
       "      <td>1</td>\n",
       "    </tr>\n",
       "    <tr>\n",
       "      <th>3</th>\n",
       "      <td>2019-04-01 13:03:28+00:00</td>\n",
       "      <td>Can you believe that the Radical Left Democrat...</td>\n",
       "      <td>negative</td>\n",
       "      <td>-1</td>\n",
       "    </tr>\n",
       "    <tr>\n",
       "      <th>4</th>\n",
       "      <td>2019-04-01 12:13:29+00:00</td>\n",
       "      <td>Democrats, working with Republicans in Congres...</td>\n",
       "      <td>negative</td>\n",
       "      <td>-1</td>\n",
       "    </tr>\n",
       "  </tbody>\n",
       "</table>\n",
       "</div>"
      ],
      "text/plain": [
       "                        Date  \\\n",
       "0  2019-04-01 16:47:16+00:00   \n",
       "1  2019-04-01 14:43:14+00:00   \n",
       "2  2019-04-01 13:41:23+00:00   \n",
       "3  2019-04-01 13:03:28+00:00   \n",
       "4  2019-04-01 12:13:29+00:00   \n",
       "\n",
       "                                               tweet  polarity  sentiment  \n",
       "0  Democrats should stop fighting Sen. David Perd...  negative         -1  \n",
       "1  No matter what information is given to the cra...  negative         -1  \n",
       "2  The cost of ObamaCare is far too high for our ...  positive          1  \n",
       "3  Can you believe that the Radical Left Democrat...  negative         -1  \n",
       "4  Democrats, working with Republicans in Congres...  negative         -1  "
      ]
     },
     "execution_count": 298,
     "metadata": {},
     "output_type": "execute_result"
    }
   ],
   "source": [
    "#We convert polarity in -1,0 and 1 values\n",
    "df['sentiment'] = (np.select(\n",
    "        condlist=[df['polarity'] == 'positive', df['polarity'] == 'negative'], \n",
    "        choicelist=[1, -1], \n",
    "        default= 0))\n",
    "df.head()"
   ]
  },
  {
   "cell_type": "code",
   "execution_count": 299,
   "metadata": {},
   "outputs": [
    {
     "data": {
      "text/html": [
       "<div>\n",
       "<style scoped>\n",
       "    .dataframe tbody tr th:only-of-type {\n",
       "        vertical-align: middle;\n",
       "    }\n",
       "\n",
       "    .dataframe tbody tr th {\n",
       "        vertical-align: top;\n",
       "    }\n",
       "\n",
       "    .dataframe thead th {\n",
       "        text-align: right;\n",
       "    }\n",
       "</style>\n",
       "<table border=\"1\" class=\"dataframe\">\n",
       "  <thead>\n",
       "    <tr style=\"text-align: right;\">\n",
       "      <th></th>\n",
       "      <th>Date</th>\n",
       "      <th>tweet</th>\n",
       "      <th>polarity</th>\n",
       "      <th>sentiment</th>\n",
       "    </tr>\n",
       "  </thead>\n",
       "  <tbody>\n",
       "    <tr>\n",
       "      <th>0</th>\n",
       "      <td>2019-04-01</td>\n",
       "      <td>Democrats should stop fighting Sen. David Perd...</td>\n",
       "      <td>negative</td>\n",
       "      <td>-1</td>\n",
       "    </tr>\n",
       "    <tr>\n",
       "      <th>1</th>\n",
       "      <td>2019-04-01</td>\n",
       "      <td>No matter what information is given to the cra...</td>\n",
       "      <td>negative</td>\n",
       "      <td>-1</td>\n",
       "    </tr>\n",
       "    <tr>\n",
       "      <th>2</th>\n",
       "      <td>2019-04-01</td>\n",
       "      <td>The cost of ObamaCare is far too high for our ...</td>\n",
       "      <td>positive</td>\n",
       "      <td>1</td>\n",
       "    </tr>\n",
       "    <tr>\n",
       "      <th>3</th>\n",
       "      <td>2019-04-01</td>\n",
       "      <td>Can you believe that the Radical Left Democrat...</td>\n",
       "      <td>negative</td>\n",
       "      <td>-1</td>\n",
       "    </tr>\n",
       "    <tr>\n",
       "      <th>4</th>\n",
       "      <td>2019-04-01</td>\n",
       "      <td>Democrats, working with Republicans in Congres...</td>\n",
       "      <td>negative</td>\n",
       "      <td>-1</td>\n",
       "    </tr>\n",
       "  </tbody>\n",
       "</table>\n",
       "</div>"
      ],
      "text/plain": [
       "         Date                                              tweet  polarity  \\\n",
       "0  2019-04-01  Democrats should stop fighting Sen. David Perd...  negative   \n",
       "1  2019-04-01  No matter what information is given to the cra...  negative   \n",
       "2  2019-04-01  The cost of ObamaCare is far too high for our ...  positive   \n",
       "3  2019-04-01  Can you believe that the Radical Left Democrat...  negative   \n",
       "4  2019-04-01  Democrats, working with Republicans in Congres...  negative   \n",
       "\n",
       "   sentiment  \n",
       "0         -1  \n",
       "1         -1  \n",
       "2          1  \n",
       "3         -1  \n",
       "4         -1  "
      ]
     },
     "execution_count": 299,
     "metadata": {},
     "output_type": "execute_result"
    }
   ],
   "source": [
    "df['Date'] = df['Date'].apply(lambda x: x[:10])\n",
    "df.head()"
   ]
  },
  {
   "cell_type": "code",
   "execution_count": 302,
   "metadata": {},
   "outputs": [],
   "source": [
    "df.to_csv('df.csv')"
   ]
  },
  {
   "cell_type": "code",
   "execution_count": 303,
   "metadata": {},
   "outputs": [
    {
     "data": {
      "text/html": [
       "<div>\n",
       "<style scoped>\n",
       "    .dataframe tbody tr th:only-of-type {\n",
       "        vertical-align: middle;\n",
       "    }\n",
       "\n",
       "    .dataframe tbody tr th {\n",
       "        vertical-align: top;\n",
       "    }\n",
       "\n",
       "    .dataframe thead th {\n",
       "        text-align: right;\n",
       "    }\n",
       "</style>\n",
       "<table border=\"1\" class=\"dataframe\">\n",
       "  <thead>\n",
       "    <tr style=\"text-align: right;\">\n",
       "      <th></th>\n",
       "      <th>Date</th>\n",
       "      <th>sentiment</th>\n",
       "    </tr>\n",
       "  </thead>\n",
       "  <tbody>\n",
       "    <tr>\n",
       "      <th>0</th>\n",
       "      <td>2019-04-01</td>\n",
       "      <td>-1</td>\n",
       "    </tr>\n",
       "    <tr>\n",
       "      <th>1</th>\n",
       "      <td>2019-04-01</td>\n",
       "      <td>-1</td>\n",
       "    </tr>\n",
       "    <tr>\n",
       "      <th>2</th>\n",
       "      <td>2019-04-01</td>\n",
       "      <td>1</td>\n",
       "    </tr>\n",
       "    <tr>\n",
       "      <th>3</th>\n",
       "      <td>2019-04-01</td>\n",
       "      <td>-1</td>\n",
       "    </tr>\n",
       "    <tr>\n",
       "      <th>4</th>\n",
       "      <td>2019-04-01</td>\n",
       "      <td>-1</td>\n",
       "    </tr>\n",
       "  </tbody>\n",
       "</table>\n",
       "</div>"
      ],
      "text/plain": [
       "         Date  sentiment\n",
       "0  2019-04-01         -1\n",
       "1  2019-04-01         -1\n",
       "2  2019-04-01          1\n",
       "3  2019-04-01         -1\n",
       "4  2019-04-01         -1"
      ]
     },
     "execution_count": 303,
     "metadata": {},
     "output_type": "execute_result"
    }
   ],
   "source": [
    "df.drop(['tweet', 'polarity'], axis='columns', inplace=True)\n",
    "df.head()"
   ]
  },
  {
   "cell_type": "code",
   "execution_count": 306,
   "metadata": {},
   "outputs": [
    {
     "data": {
      "text/html": [
       "<div>\n",
       "<style scoped>\n",
       "    .dataframe tbody tr th:only-of-type {\n",
       "        vertical-align: middle;\n",
       "    }\n",
       "\n",
       "    .dataframe tbody tr th {\n",
       "        vertical-align: top;\n",
       "    }\n",
       "\n",
       "    .dataframe thead th {\n",
       "        text-align: right;\n",
       "    }\n",
       "</style>\n",
       "<table border=\"1\" class=\"dataframe\">\n",
       "  <thead>\n",
       "    <tr style=\"text-align: right;\">\n",
       "      <th></th>\n",
       "      <th>sentiment</th>\n",
       "    </tr>\n",
       "    <tr>\n",
       "      <th>Date</th>\n",
       "      <th></th>\n",
       "    </tr>\n",
       "  </thead>\n",
       "  <tbody>\n",
       "    <tr>\n",
       "      <th>2019-04-01</th>\n",
       "      <td>-0.666667</td>\n",
       "    </tr>\n",
       "    <tr>\n",
       "      <th>2019-04-02</th>\n",
       "      <td>-0.058824</td>\n",
       "    </tr>\n",
       "    <tr>\n",
       "      <th>2019-04-03</th>\n",
       "      <td>0.500000</td>\n",
       "    </tr>\n",
       "    <tr>\n",
       "      <th>2019-04-04</th>\n",
       "      <td>0.100000</td>\n",
       "    </tr>\n",
       "    <tr>\n",
       "      <th>2019-04-05</th>\n",
       "      <td>0.062500</td>\n",
       "    </tr>\n",
       "  </tbody>\n",
       "</table>\n",
       "</div>"
      ],
      "text/plain": [
       "            sentiment\n",
       "Date                 \n",
       "2019-04-01  -0.666667\n",
       "2019-04-02  -0.058824\n",
       "2019-04-03   0.500000\n",
       "2019-04-04   0.100000\n",
       "2019-04-05   0.062500"
      ]
     },
     "execution_count": 306,
     "metadata": {},
     "output_type": "execute_result"
    }
   ],
   "source": [
    "#We group tweets by date and do the mean for each day to get a time serie\n",
    "sentimentTimeserie = df.groupby('Date').mean()\n",
    "sentimentTimeserie.head()"
   ]
  },
  {
   "cell_type": "markdown",
   "metadata": {},
   "source": [
    "<h1> Question 3 - Properties of the sentiment index time series</h1>"
   ]
  },
  {
   "cell_type": "code",
   "execution_count": 307,
   "metadata": {},
   "outputs": [
    {
     "data": {
      "text/plain": [
       "<matplotlib.axes._subplots.AxesSubplot at 0x218b3c79048>"
      ]
     },
     "execution_count": 307,
     "metadata": {},
     "output_type": "execute_result"
    },
    {
     "data": {
      "image/png": "[encoded data removed]",
      "text/plain": [
       "<Figure size 432x288 with 1 Axes>"
      ]
     },
     "metadata": {
      "needs_background": "light"
     },
     "output_type": "display_data"
    }
   ],
   "source": [
    "sentimentTimeserie.plot()"
   ]
  },
  {
   "cell_type": "code",
   "execution_count": 308,
   "metadata": {},
   "outputs": [
    {
     "data": {
      "text/plain": [
       "count    58.000000\n",
       "mean      0.005596\n",
       "std       0.337203\n",
       "min      -0.666667\n",
       "25%      -0.262500\n",
       "50%       0.000000\n",
       "75%       0.172101\n",
       "max       0.833333\n",
       "Name: sentiment, dtype: float64"
      ]
     },
     "execution_count": 308,
     "metadata": {},
     "output_type": "execute_result"
    }
   ],
   "source": [
    "sentimentTimeserie['sentiment'].describe()"
   ]
  },
  {
   "cell_type": "code",
   "execution_count": 309,
   "metadata": {},
   "outputs": [
    {
     "name": "stderr",
     "output_type": "stream",
     "text": [
      "C:\\Users\\Hugo\\Anaconda3\\lib\\site-packages\\statsmodels\\regression\\linear_model.py:1283: RuntimeWarning: invalid value encountered in sqrt\n",
      "  return rho, np.sqrt(sigmasq)\n"
     ]
    }
   ],
   "source": [
    "#We calculate acf and pacf\n",
    "acf = acf(sentimentTimeserie)\n",
    "pacf = pacf(sentimentTimeserie)"
   ]
  },
  {
   "cell_type": "code",
   "execution_count": 313,
   "metadata": {},
   "outputs": [
    {
     "data": {
      "text/plain": [
       "<matplotlib.axes._subplots.AxesSubplot at 0x218b3e9b240>"
      ]
     },
     "execution_count": 313,
     "metadata": {},
     "output_type": "execute_result"
    },
    {
     "data": {
      "image/png": "[encoded data removed]",
      "text/plain": [
       "<Figure size 432x288 with 1 Axes>"
      ]
     },
     "metadata": {
      "needs_background": "light"
     },
     "output_type": "display_data"
    }
   ],
   "source": [
    "#Then we plot them\n",
    "test_df = pd.DataFrame([acf]).T\n",
    "test_df.columns = ['acf']\n",
    "test_df.index += 1\n",
    "test_df.plot(kind='bar')"
   ]
  },
  {
   "cell_type": "code",
   "execution_count": 312,
   "metadata": {},
   "outputs": [
    {
     "data": {
      "text/plain": [
       "<matplotlib.axes._subplots.AxesSubplot at 0x218b3dabba8>"
      ]
     },
     "execution_count": 312,
     "metadata": {},
     "output_type": "execute_result"
    },
    {
     "data": {
      "image/png": "[encoded data removed]",
      "text/plain": [
       "<Figure size 432x288 with 1 Axes>"
      ]
     },
     "metadata": {
      "needs_background": "light"
     },
     "output_type": "display_data"
    }
   ],
   "source": [
    "test_df = pd.DataFrame([pacf]).T\n",
    "test_df.columns = ['pacf']\n",
    "test_df.index += 1\n",
    "test_df.plot(kind='bar')"
   ]
  },
  {
   "cell_type": "code",
   "execution_count": 368,
   "metadata": {},
   "outputs": [],
   "source": [
    "train = sentimentTimeserie[:45]\n",
    "valid = sentimentTimeserie[45:58]"
   ]
  },
  {
   "cell_type": "code",
   "execution_count": 366,
   "metadata": {},
   "outputs": [
    {
     "name": "stdout",
     "output_type": "stream",
     "text": [
      "Fit ARIMA: order=(2, 0, 2) seasonal_order=(0, 0, 0, 1); AIC=30.944, BIC=41.784, Fit time=0.171 seconds\n",
      "Fit ARIMA: order=(0, 0, 0) seasonal_order=(0, 0, 0, 1); AIC=35.954, BIC=39.567, Fit time=0.017 seconds\n",
      "Fit ARIMA: order=(1, 0, 0) seasonal_order=(0, 0, 0, 1); AIC=37.631, BIC=43.051, Fit time=0.033 seconds\n",
      "Fit ARIMA: order=(0, 0, 1) seasonal_order=(0, 0, 0, 1); AIC=37.314, BIC=42.734, Fit time=0.041 seconds\n",
      "Fit ARIMA: order=(1, 0, 2) seasonal_order=(0, 0, 0, 1); AIC=nan, BIC=nan, Fit time=nan seconds\n",
      "Fit ARIMA: order=(3, 0, 2) seasonal_order=(0, 0, 0, 1); AIC=32.675, BIC=45.322, Fit time=0.196 seconds\n",
      "Fit ARIMA: order=(2, 0, 1) seasonal_order=(0, 0, 0, 1); AIC=nan, BIC=nan, Fit time=nan seconds\n",
      "Fit ARIMA: order=(2, 0, 3) seasonal_order=(0, 0, 0, 1); AIC=31.108, BIC=43.754, Fit time=0.208 seconds\n",
      "Fit ARIMA: order=(1, 0, 1) seasonal_order=(0, 0, 0, 1); AIC=32.460, BIC=39.686, Fit time=0.208 seconds\n",
      "Fit ARIMA: order=(3, 0, 3) seasonal_order=(0, 0, 0, 1); AIC=31.740, BIC=46.193, Fit time=0.250 seconds\n",
      "Total fit time: 1.129 seconds\n"
     ]
    }
   ],
   "source": [
    "model = auto_arima(train, trace=True, error_action='ignore', suppress_warnings=True)\n",
    "model.fit(train)\n",
    "\n",
    "forecast = model.predict(n_periods=len(valid))\n",
    "forecast = pd.DataFrame(forecast,index = valid.index,columns=['Prediction'])"
   ]
  },
  {
   "cell_type": "code",
   "execution_count": 369,
   "metadata": {},
   "outputs": [
    {
     "data": {
      "image/png": "[encoded data removed]",
      "text/plain": [
       "<Figure size 432x288 with 1 Axes>"
      ]
     },
     "metadata": {
      "needs_background": "light"
     },
     "output_type": "display_data"
    }
   ],
   "source": [
    "#plot the predictions for validation set\n",
    "plt.plot(train, label='Train')\n",
    "plt.plot(valid, label='Valid')\n",
    "plt.plot(forecast, label='Prediction')\n",
    "plt.show()"
   ]
  },
  {
   "cell_type": "markdown",
   "metadata": {},
   "source": [
    "<p>Our model doesn not fit well. I think that we have not enough data to do a good ARIMA model</p>"
   ]
  },
  {
   "cell_type": "markdown",
   "metadata": {},
   "source": [
    "<h1> Question 4 - Comparison bewtween tweets and S&P 500</h1>"
   ]
  },
  {
   "cell_type": "code",
   "execution_count": 317,
   "metadata": {},
   "outputs": [
    {
     "name": "stderr",
     "output_type": "stream",
     "text": [
      "C:\\Users\\Hugo\\Anaconda3\\lib\\site-packages\\ipykernel_launcher.py:6: SettingWithCopyWarning: \n",
      "A value is trying to be set on a copy of a slice from a DataFrame\n",
      "\n",
      "See the caveats in the documentation: http://pandas.pydata.org/pandas-docs/stable/indexing.html#indexing-view-versus-copy\n",
      "  \n"
     ]
    },
    {
     "data": {
      "text/html": [
       "<div>\n",
       "<style scoped>\n",
       "    .dataframe tbody tr th:only-of-type {\n",
       "        vertical-align: middle;\n",
       "    }\n",
       "\n",
       "    .dataframe tbody tr th {\n",
       "        vertical-align: top;\n",
       "    }\n",
       "\n",
       "    .dataframe thead th {\n",
       "        text-align: right;\n",
       "    }\n",
       "</style>\n",
       "<table border=\"1\" class=\"dataframe\">\n",
       "  <thead>\n",
       "    <tr style=\"text-align: right;\">\n",
       "      <th></th>\n",
       "      <th>High</th>\n",
       "      <th>Low</th>\n",
       "      <th>Open</th>\n",
       "      <th>Close</th>\n",
       "      <th>Volume</th>\n",
       "      <th>Adj Close</th>\n",
       "      <th>Log</th>\n",
       "      <th>Returns</th>\n",
       "    </tr>\n",
       "    <tr>\n",
       "      <th>Date</th>\n",
       "      <th></th>\n",
       "      <th></th>\n",
       "      <th></th>\n",
       "      <th></th>\n",
       "      <th></th>\n",
       "      <th></th>\n",
       "      <th></th>\n",
       "      <th></th>\n",
       "    </tr>\n",
       "  </thead>\n",
       "  <tbody>\n",
       "    <tr>\n",
       "      <th>2019-04-01</th>\n",
       "      <td>2869.399902</td>\n",
       "      <td>2848.629883</td>\n",
       "      <td>2848.629883</td>\n",
       "      <td>2867.189941</td>\n",
       "      <td>3500760000</td>\n",
       "      <td>2867.189941</td>\n",
       "      <td>7.961088</td>\n",
       "      <td>0.000017</td>\n",
       "    </tr>\n",
       "    <tr>\n",
       "      <th>2019-04-02</th>\n",
       "      <td>2872.899902</td>\n",
       "      <td>2858.750000</td>\n",
       "      <td>2868.239990</td>\n",
       "      <td>2867.239990</td>\n",
       "      <td>3246900000</td>\n",
       "      <td>2867.239990</td>\n",
       "      <td>7.961105</td>\n",
       "      <td>0.000017</td>\n",
       "    </tr>\n",
       "    <tr>\n",
       "      <th>2019-04-03</th>\n",
       "      <td>2885.250000</td>\n",
       "      <td>2865.169922</td>\n",
       "      <td>2876.090088</td>\n",
       "      <td>2873.399902</td>\n",
       "      <td>3550240000</td>\n",
       "      <td>2873.399902</td>\n",
       "      <td>7.963251</td>\n",
       "      <td>0.002146</td>\n",
       "    </tr>\n",
       "    <tr>\n",
       "      <th>2019-04-04</th>\n",
       "      <td>2881.280029</td>\n",
       "      <td>2867.139893</td>\n",
       "      <td>2873.989990</td>\n",
       "      <td>2879.389893</td>\n",
       "      <td>3015180000</td>\n",
       "      <td>2879.389893</td>\n",
       "      <td>7.965334</td>\n",
       "      <td>0.002082</td>\n",
       "    </tr>\n",
       "    <tr>\n",
       "      <th>2019-04-05</th>\n",
       "      <td>2893.239990</td>\n",
       "      <td>2882.989990</td>\n",
       "      <td>2884.159912</td>\n",
       "      <td>2892.739990</td>\n",
       "      <td>3146820000</td>\n",
       "      <td>2892.739990</td>\n",
       "      <td>7.969959</td>\n",
       "      <td>0.004626</td>\n",
       "    </tr>\n",
       "  </tbody>\n",
       "</table>\n",
       "</div>"
      ],
      "text/plain": [
       "                   High          Low         Open        Close      Volume  \\\n",
       "Date                                                                         \n",
       "2019-04-01  2869.399902  2848.629883  2848.629883  2867.189941  3500760000   \n",
       "2019-04-02  2872.899902  2858.750000  2868.239990  2867.239990  3246900000   \n",
       "2019-04-03  2885.250000  2865.169922  2876.090088  2873.399902  3550240000   \n",
       "2019-04-04  2881.280029  2867.139893  2873.989990  2879.389893  3015180000   \n",
       "2019-04-05  2893.239990  2882.989990  2884.159912  2892.739990  3146820000   \n",
       "\n",
       "              Adj Close       Log   Returns  \n",
       "Date                                         \n",
       "2019-04-01  2867.189941  7.961088  0.000017  \n",
       "2019-04-02  2867.239990  7.961105  0.000017  \n",
       "2019-04-03  2873.399902  7.963251  0.002146  \n",
       "2019-04-04  2879.389893  7.965334  0.002082  \n",
       "2019-04-05  2892.739990  7.969959  0.004626  "
      ]
     },
     "execution_count": 317,
     "metadata": {},
     "output_type": "execute_result"
    }
   ],
   "source": [
    "start_date = '2019-04-01'\n",
    "end_date = '2019-05-28'\n",
    "stockSP500 = pandas_datareader.data.DataReader('^GSPC', 'yahoo', start = start_date,end = end_date)\n",
    "stockSP500[\"Log\"] = np.log(stockSP500[\"Adj Close\"])\n",
    "stockSP500[\"Returns\"] = stockSP500[\"Log\"].diff()\n",
    "stockSP500[\"Returns\"][0] = stockSP500[\"Returns\"][1]\n",
    "stockSP500.head()"
   ]
  },
  {
   "cell_type": "code",
   "execution_count": 318,
   "metadata": {},
   "outputs": [
    {
     "data": {
      "text/html": [
       "<div>\n",
       "<style scoped>\n",
       "    .dataframe tbody tr th:only-of-type {\n",
       "        vertical-align: middle;\n",
       "    }\n",
       "\n",
       "    .dataframe tbody tr th {\n",
       "        vertical-align: top;\n",
       "    }\n",
       "\n",
       "    .dataframe thead th {\n",
       "        text-align: right;\n",
       "    }\n",
       "</style>\n",
       "<table border=\"1\" class=\"dataframe\">\n",
       "  <thead>\n",
       "    <tr style=\"text-align: right;\">\n",
       "      <th></th>\n",
       "      <th>Returns</th>\n",
       "    </tr>\n",
       "    <tr>\n",
       "      <th>Date</th>\n",
       "      <th></th>\n",
       "    </tr>\n",
       "  </thead>\n",
       "  <tbody>\n",
       "    <tr>\n",
       "      <th>2019-04-01</th>\n",
       "      <td>0.000017</td>\n",
       "    </tr>\n",
       "    <tr>\n",
       "      <th>2019-04-02</th>\n",
       "      <td>0.000017</td>\n",
       "    </tr>\n",
       "    <tr>\n",
       "      <th>2019-04-03</th>\n",
       "      <td>0.002146</td>\n",
       "    </tr>\n",
       "    <tr>\n",
       "      <th>2019-04-04</th>\n",
       "      <td>0.002082</td>\n",
       "    </tr>\n",
       "    <tr>\n",
       "      <th>2019-04-05</th>\n",
       "      <td>0.004626</td>\n",
       "    </tr>\n",
       "  </tbody>\n",
       "</table>\n",
       "</div>"
      ],
      "text/plain": [
       "             Returns\n",
       "Date                \n",
       "2019-04-01  0.000017\n",
       "2019-04-02  0.000017\n",
       "2019-04-03  0.002146\n",
       "2019-04-04  0.002082\n",
       "2019-04-05  0.004626"
      ]
     },
     "execution_count": 318,
     "metadata": {},
     "output_type": "execute_result"
    }
   ],
   "source": [
    "stockSP500.drop(['High', 'Low','Open', 'Close', 'Volume', 'Adj Close', 'Log'], axis='columns', inplace=True)\n",
    "stockSP500.head()"
   ]
  },
  {
   "cell_type": "code",
   "execution_count": 324,
   "metadata": {},
   "outputs": [
    {
     "data": {
      "text/html": [
       "<div>\n",
       "<style scoped>\n",
       "    .dataframe tbody tr th:only-of-type {\n",
       "        vertical-align: middle;\n",
       "    }\n",
       "\n",
       "    .dataframe tbody tr th {\n",
       "        vertical-align: top;\n",
       "    }\n",
       "\n",
       "    .dataframe thead th {\n",
       "        text-align: right;\n",
       "    }\n",
       "</style>\n",
       "<table border=\"1\" class=\"dataframe\">\n",
       "  <thead>\n",
       "    <tr style=\"text-align: right;\">\n",
       "      <th></th>\n",
       "      <th>sentiment</th>\n",
       "      <th>Returns</th>\n",
       "    </tr>\n",
       "    <tr>\n",
       "      <th>Date</th>\n",
       "      <th></th>\n",
       "      <th></th>\n",
       "    </tr>\n",
       "  </thead>\n",
       "  <tbody>\n",
       "    <tr>\n",
       "      <th>2019-04-01</th>\n",
       "      <td>-0.666667</td>\n",
       "      <td>0.000017</td>\n",
       "    </tr>\n",
       "    <tr>\n",
       "      <th>2019-04-02</th>\n",
       "      <td>-0.058824</td>\n",
       "      <td>0.000017</td>\n",
       "    </tr>\n",
       "    <tr>\n",
       "      <th>2019-04-03</th>\n",
       "      <td>0.500000</td>\n",
       "      <td>0.002146</td>\n",
       "    </tr>\n",
       "    <tr>\n",
       "      <th>2019-04-04</th>\n",
       "      <td>0.100000</td>\n",
       "      <td>0.002082</td>\n",
       "    </tr>\n",
       "    <tr>\n",
       "      <th>2019-04-05</th>\n",
       "      <td>0.062500</td>\n",
       "      <td>0.004626</td>\n",
       "    </tr>\n",
       "  </tbody>\n",
       "</table>\n",
       "</div>"
      ],
      "text/plain": [
       "            sentiment   Returns\n",
       "Date                           \n",
       "2019-04-01  -0.666667  0.000017\n",
       "2019-04-02  -0.058824  0.000017\n",
       "2019-04-03   0.500000  0.002146\n",
       "2019-04-04   0.100000  0.002082\n",
       "2019-04-05   0.062500  0.004626"
      ]
     },
     "execution_count": 324,
     "metadata": {},
     "output_type": "execute_result"
    }
   ],
   "source": [
    "#We join data from the two dataframe\n",
    "dfSentimentReturn = sentimentTimeserie.join(stockSP500)\n",
    "dfSentimentReturn.head()"
   ]
  },
  {
   "cell_type": "code",
   "execution_count": 327,
   "metadata": {},
   "outputs": [],
   "source": [
    "#We drop data from days when S&P500 is not open\n",
    "dfSentimentReturn = dfSentimentReturn.dropna()"
   ]
  },
  {
   "cell_type": "code",
   "execution_count": 334,
   "metadata": {},
   "outputs": [
    {
     "data": {
      "text/plain": [
       "Text(0.5, 1.0, \"Sentiment index of Donald Trump's tweets\")"
      ]
     },
     "execution_count": 334,
     "metadata": {},
     "output_type": "execute_result"
    },
    {
     "data": {
      "image/png": "[encoded data removed]",
      "text/plain": [
       "<Figure size 432x288 with 1 Axes>"
      ]
     },
     "metadata": {
      "needs_background": "light"
     },
     "output_type": "display_data"
    }
   ],
   "source": [
    "plt.plot(dfSentimentReturn['sentiment'])\n",
    "plt.title(\"Sentiment index of Donald Trump's tweets\")"
   ]
  },
  {
   "cell_type": "code",
   "execution_count": 335,
   "metadata": {},
   "outputs": [
    {
     "data": {
      "text/plain": [
       "Text(0.5, 1.0, 'Log returns of the S&P500')"
      ]
     },
     "execution_count": 335,
     "metadata": {},
     "output_type": "execute_result"
    },
    {
     "data": {
      "image/png": "[encoded data removed]",
      "text/plain": [
       "<Figure size 432x288 with 1 Axes>"
      ]
     },
     "metadata": {
      "needs_background": "light"
     },
     "output_type": "display_data"
    }
   ],
   "source": [
    "plt.plot(dfSentimentReturn['Returns'])\n",
    "plt.title(\"Log returns of the S&P500\")"
   ]
  },
  {
   "cell_type": "markdown",
   "metadata": {},
   "source": [
    "<p>We don't see a coorelation between them with only plots</p>"
   ]
  },
  {
   "cell_type": "markdown",
   "metadata": {},
   "source": [
    "<h1> Question 5 - Test for Granger causality</h1>"
   ]
  },
  {
   "cell_type": "code",
   "execution_count": 336,
   "metadata": {},
   "outputs": [],
   "source": [
    "from statsmodels.tsa.stattools import grangercausalitytests\n"
   ]
  },
  {
   "cell_type": "code",
   "execution_count": 340,
   "metadata": {},
   "outputs": [
    {
     "name": "stdout",
     "output_type": "stream",
     "text": [
      "\n",
      "Granger Causality\n",
      "number of lags (no zero) 1\n",
      "ssr based F test:         F=0.3791  , p=0.5419  , df_denom=36, df_num=1\n",
      "ssr based chi2 test:   chi2=0.4107  , p=0.5216  , df=1\n",
      "likelihood ratio test: chi2=0.4086  , p=0.5227  , df=1\n",
      "parameter F test:         F=0.3791  , p=0.5419  , df_denom=36, df_num=1\n",
      "\n",
      "Granger Causality\n",
      "number of lags (no zero) 2\n",
      "ssr based F test:         F=4.7351  , p=0.0156  , df_denom=33, df_num=2\n",
      "ssr based chi2 test:   chi2=10.9051 , p=0.0043  , df=2\n",
      "likelihood ratio test: chi2=9.5872  , p=0.0083  , df=2\n",
      "parameter F test:         F=4.7351  , p=0.0156  , df_denom=33, df_num=2\n",
      "\n",
      "Granger Causality\n",
      "number of lags (no zero) 3\n",
      "ssr based F test:         F=3.1477  , p=0.0395  , df_denom=30, df_num=3\n",
      "ssr based chi2 test:   chi2=11.6466 , p=0.0087  , df=3\n",
      "likelihood ratio test: chi2=10.1255 , p=0.0175  , df=3\n",
      "parameter F test:         F=3.1477  , p=0.0395  , df_denom=30, df_num=3\n",
      "\n",
      "Granger Causality\n",
      "number of lags (no zero) 4\n",
      "ssr based F test:         F=1.7935  , p=0.1593  , df_denom=27, df_num=4\n",
      "ssr based chi2 test:   chi2=9.5656  , p=0.0484  , df=4\n",
      "likelihood ratio test: chi2=8.4828  , p=0.0754  , df=4\n",
      "parameter F test:         F=1.7935  , p=0.1593  , df_denom=27, df_num=4\n",
      "\n",
      "Granger Causality\n",
      "number of lags (no zero) 5\n",
      "ssr based F test:         F=1.3637  , p=0.2727  , df_denom=24, df_num=5\n",
      "ssr based chi2 test:   chi2=9.9436  , p=0.0768  , df=5\n",
      "likelihood ratio test: chi2=8.7521  , p=0.1194  , df=5\n",
      "parameter F test:         F=1.3637  , p=0.2727  , df_denom=24, df_num=5\n"
     ]
    },
    {
     "data": {
      "text/plain": [
       "{1: ({'ssr_ftest': (0.3791267091773306, 0.5419445709636164, 36.0, 1),\n",
       "   'ssr_chi2test': (0.4107206016087749, 0.5216039828920283, 1),\n",
       "   'lrtest': (0.4085729563593077, 0.5226947063844996, 1),\n",
       "   'params_ftest': (0.3791267091773294, 0.5419445709636164, 36.0, 1.0)},\n",
       "  [<statsmodels.regression.linear_model.RegressionResultsWrapper at 0x218b5313e10>,\n",
       "   <statsmodels.regression.linear_model.RegressionResultsWrapper at 0x218b5313048>,\n",
       "   array([[0., 1., 0.]])]),\n",
       " 2: ({'ssr_ftest': (4.735119493937945, 0.01556260798515557, 33.0, 2),\n",
       "   'ssr_chi2test': (10.9051236830086, 0.004285312325441231, 2),\n",
       "   'lrtest': (9.58724838224802, 0.008282385972842836, 2),\n",
       "   'params_ftest': (4.735119493937944, 0.01556260798515557, 33.0, 2.0)},\n",
       "  [<statsmodels.regression.linear_model.RegressionResultsWrapper at 0x218b53139e8>,\n",
       "   <statsmodels.regression.linear_model.RegressionResultsWrapper at 0x218b53134a8>,\n",
       "   array([[0., 0., 1., 0., 0.],\n",
       "          [0., 0., 0., 1., 0.]])]),\n",
       " 3: ({'ssr_ftest': (3.1477188633808737, 0.03945248448462508, 30.0, 3),\n",
       "   'ssr_chi2test': (11.646559794509233, 0.008697379580597431, 3),\n",
       "   'lrtest': (10.125537664316198, 0.017528614718197954, 3),\n",
       "   'params_ftest': (3.1477188633808755, 0.03945248448462497, 30.0, 3.0)},\n",
       "  [<statsmodels.regression.linear_model.RegressionResultsWrapper at 0x218b5344080>,\n",
       "   <statsmodels.regression.linear_model.RegressionResultsWrapper at 0x218b5344160>,\n",
       "   array([[0., 0., 0., 1., 0., 0., 0.],\n",
       "          [0., 0., 0., 0., 1., 0., 0.],\n",
       "          [0., 0., 0., 0., 0., 1., 0.]])]),\n",
       " 4: ({'ssr_ftest': (1.7935484339955206, 0.15927317882018346, 27.0, 4),\n",
       "   'ssr_chi2test': (9.56559164797611, 0.04841679353004557, 4),\n",
       "   'lrtest': (8.482821267971772, 0.07540965461127463, 4),\n",
       "   'params_ftest': (1.79354843399552, 0.15927317882018346, 27.0, 4.0)},\n",
       "  [<statsmodels.regression.linear_model.RegressionResultsWrapper at 0x218b53444a8>,\n",
       "   <statsmodels.regression.linear_model.RegressionResultsWrapper at 0x218b5344588>,\n",
       "   array([[0., 0., 0., 0., 1., 0., 0., 0., 0.],\n",
       "          [0., 0., 0., 0., 0., 1., 0., 0., 0.],\n",
       "          [0., 0., 0., 0., 0., 0., 1., 0., 0.],\n",
       "          [0., 0., 0., 0., 0., 0., 0., 1., 0.]])]),\n",
       " 5: ({'ssr_ftest': (1.3636928800206496, 0.272735563331778, 24.0, 5),\n",
       "   'ssr_chi2test': (9.943593916817235, 0.07684935517016359, 5),\n",
       "   'lrtest': (8.752106073094325, 0.11936979281334002, 5),\n",
       "   'params_ftest': (1.3636928800206496, 0.272735563331778, 24.0, 5.0)},\n",
       "  [<statsmodels.regression.linear_model.RegressionResultsWrapper at 0x218b5344940>,\n",
       "   <statsmodels.regression.linear_model.RegressionResultsWrapper at 0x218b5344a20>,\n",
       "   array([[0., 0., 0., 0., 0., 1., 0., 0., 0., 0., 0.],\n",
       "          [0., 0., 0., 0., 0., 0., 1., 0., 0., 0., 0.],\n",
       "          [0., 0., 0., 0., 0., 0., 0., 1., 0., 0., 0.],\n",
       "          [0., 0., 0., 0., 0., 0., 0., 0., 1., 0., 0.],\n",
       "          [0., 0., 0., 0., 0., 0., 0., 0., 0., 1., 0.]])])}"
      ]
     },
     "execution_count": 340,
     "metadata": {},
     "output_type": "execute_result"
    }
   ],
   "source": [
    "grangercausalitytests(dfSentimentReturn,5)"
   ]
  },
  {
   "cell_type": "markdown",
   "metadata": {},
   "source": [
    "<p>The Null hypothesis for grangercausalitytests is that the time series in the second column  does NOT Granger cause the time series in the first column.</p>\n",
    "<p>So we see that the p value is higher than 0.05 for a lag equal to 1 and we can consider that there is a granger causality between the two series</p>"
   ]
  }
 ],
 "metadata": {
  "kernelspec": {
   "display_name": "Python 3",
   "language": "python",
   "name": "python3"
  },
  "language_info": {
   "codemirror_mode": {
    "name": "ipython",
    "version": 3
   },
   "file_extension": ".py",
   "mimetype": "text/x-python",
   "name": "python",
   "nbconvert_exporter": "python",
   "pygments_lexer": "ipython3",
   "version": "3.6.7"
  }
 },
 "nbformat": 4,
 "nbformat_minor": 2
}
