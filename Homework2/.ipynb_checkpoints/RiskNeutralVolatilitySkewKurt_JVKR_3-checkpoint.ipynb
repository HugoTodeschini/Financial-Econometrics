{
 "cells": [
  {
   "cell_type": "code",
   "execution_count": 33,
   "metadata": {},
   "outputs": [],
   "source": [
    "from scipy.interpolate import interp1d\n",
    "import pandas as pd \n",
    "from scipy import integrate\n",
    "import numpy as np\n",
    "import scipy.stats as ss\n",
    "import time \n",
    "\n",
    "from scipy.stats import norm\n"
   ]
  },
  {
   "cell_type": "code",
   "execution_count": 34,
   "metadata": {},
   "outputs": [],
   "source": [
    "#Black and Scholes\n",
    "def BlackScholes(CallPutFlag,S,X,v,r,T):\n",
    "\n",
    "    d1 = (np.log(S/X)+(r+v*v/2.)*T)/(v*np.sqrt(T))\n",
    "\n",
    "    d2 = d1-v*np.sqrt(T)\n",
    "    if CallPutFlag==\"C\":\n",
    "        P = S*norm.cdf(d1) - X*np.exp(-r*T)*norm.cdf(d2)\n",
    "\n",
    "    else:\n",
    "        P = -S*norm.cdf(-d1) + X*np.exp(-r*T)*norm.cdf(-d2)\n",
    "    return P"
   ]
  },
  {
   "cell_type": "code",
   "execution_count": 35,
   "metadata": {},
   "outputs": [],
   "source": [
    "def ivol(K,IV,Kall):\n",
    "    if Kall>=K[len(K)-1]:\n",
    "        Kall=K[len(K)-1]\n",
    "    if Kall<=K[0]:\n",
    "        Kall=K[0]\n",
    "    funy = interp1d(K,IV, kind='cubic', fill_value=\"extrapolate\")\n",
    "    y=funy(Kall)\n",
    "  \n",
    "    if (np.sum(y<0)>0):\n",
    "        if Kall>=K[len(K)-1]:\n",
    "            Kall=K[len(K)-1]\n",
    "        if Kall<=K[0]:\n",
    "            Kall=K[0]\n",
    "        funy = interp1d(K,IV, kind='linear', fill_value=\"extrapolate\")\n",
    "        y=funy(Kall)\n",
    "    return(y)"
   ]
  },
  {
   "cell_type": "code",
   "execution_count": 36,
   "metadata": {},
   "outputs": [],
   "source": [
    "def RiskNeutralVolatilitySkewKurt_JVKR(Kvector, IVvector, S0, T, r):\n",
    "    kmin=.1*S0;\n",
    "    kmax=3.5*S0;\n",
    "  \n",
    "    def V1(K):\n",
    "        V1=2*(1-np.log(K/S0))*BlackScholes(\"C\",S0, K, ivol(Kvector,IVvector,K), r, T)/np.power(K,2)        \n",
    "        return(V1)\n",
    "    def V2(K):\n",
    "        V2=2*(1+np.log(S0/K))*BlackScholes(\"P\",S0, K, ivol(Kvector,IVvector,K), r, T)/np.power(K,2);        \n",
    "        return(V2)\n",
    "    \n",
    "    def W1(K):\n",
    "        W1=(6*np.log(K/S0)-3*np.power(np.log(K/S0),2))*BlackScholes(\"C\",S0, K, ivol(Kvector,IVvector,K), r, T)/np.power(K,2);\n",
    "        return(W1) \n",
    "  \n",
    "    def W2(K):\n",
    "        W2=(6*np.log(S0/K)+3*np.power(np.log(S0/K),2))*BlackScholes(\"P\",S0, K, ivol(Kvector,IVvector,K), r, T)/np.power(K,2);\n",
    "        return(W2) \n",
    "    \n",
    "    def X1(K):\n",
    "        X1=(((12*np.power(np.log(K/S0),2) - 4*np.power(np.log(K/S0),3)))*(BlackScholes(\"C\",S0, K, ivol(Kvector,IVvector,K), r, T))/np.power(K,2));\n",
    "        return(X1) \n",
    "  \n",
    "    def X2(K):\n",
    "        X2=(((12*np.power(np.log(S0/K),2) + 4*np.power(np.log(S0/K),3)))*(BlackScholes(\"P\",S0, K, ivol(Kvector,IVvector,K), r, T))/np.power(K,2));\n",
    "        return(X2) \n",
    "    V=integrate.quad(V1,S0,kmax)[0]+integrate.quad(V2,kmin,S0)[0]\n",
    "    W=integrate.quad(W1,S0,kmax)[0]-integrate.quad(W2,kmin,S0)[0]\n",
    "    X=integrate.quad(X1,S0,kmax)[0]+integrate.quad(X2,kmin,S0)[0]\n",
    "    mu=np.exp(r*T)-1-np.exp(r*T)*V/2-np.exp(r*T)*W/6-np.exp(r*T)*X/24;\n",
    "    #print(V,W,X,mu)\n",
    "  \n",
    "    vol=np.sqrt(1/T * V);\n",
    "    skew=( np.exp(r*T)*W - 3*mu*np.exp(r*T)*V + 2*np.power(mu,3)) / np.power(np.exp(r*T)*V - np.power(mu,2),3/2);\n",
    "    kurt=( np.exp(r*T)*X - 4*mu*np.exp(r*T)*W + 6*np.exp(r*T)*np.power(mu,2)*V - 3*np.power(mu,4)) / np.power(np.exp(r*T)*V - np.power(mu,2),2);\n",
    "  \n",
    "    return([vol,skew,kurt]);\n",
    "\n"
   ]
  },
  {
   "cell_type": "code",
   "execution_count": 37,
   "metadata": {},
   "outputs": [],
   "source": [
    "Kvector = [90, 95, 100, 105, 110];\n",
    "IVvector= [.2, .16, .12, .07, .05];\n",
    "S0 = 100    \n",
    "r = 0.07\n",
    "T = 30 / 365"
   ]
  },
  {
   "cell_type": "code",
   "execution_count": 38,
   "metadata": {},
   "outputs": [],
   "source": [
    "Data=RiskNeutralVolatilitySkewKurt_JVKR(Kvector, IVvector, S0, T, r)"
   ]
  },
  {
   "cell_type": "code",
   "execution_count": 39,
   "metadata": {},
   "outputs": [
    {
     "data": {
      "text/html": [
       "<div>\n",
       "<style scoped>\n",
       "    .dataframe tbody tr th:only-of-type {\n",
       "        vertical-align: middle;\n",
       "    }\n",
       "\n",
       "    .dataframe tbody tr th {\n",
       "        vertical-align: top;\n",
       "    }\n",
       "\n",
       "    .dataframe thead th {\n",
       "        text-align: right;\n",
       "    }\n",
       "</style>\n",
       "<table border=\"1\" class=\"dataframe\">\n",
       "  <thead>\n",
       "    <tr style=\"text-align: right;\">\n",
       "      <th></th>\n",
       "      <th>Value</th>\n",
       "    </tr>\n",
       "  </thead>\n",
       "  <tbody>\n",
       "    <tr>\n",
       "      <th>vol</th>\n",
       "      <td>0.125560</td>\n",
       "    </tr>\n",
       "    <tr>\n",
       "      <th>skew</th>\n",
       "      <td>-1.638387</td>\n",
       "    </tr>\n",
       "    <tr>\n",
       "      <th>kurt</th>\n",
       "      <td>6.777459</td>\n",
       "    </tr>\n",
       "  </tbody>\n",
       "</table>\n",
       "</div>"
      ],
      "text/plain": [
       "         Value\n",
       "vol   0.125560\n",
       "skew -1.638387\n",
       "kurt  6.777459"
      ]
     },
     "execution_count": 39,
     "metadata": {},
     "output_type": "execute_result"
    }
   ],
   "source": [
    "colnames=[\"vol\",\"skew\",\"kurt\"]\n",
    "rownames=[\"Value\"]\n",
    "pd.DataFrame(Data, colnames,rownames)"
   ]
  },
  {
   "cell_type": "code",
   "execution_count": null,
   "metadata": {},
   "outputs": [],
   "source": []
  }
 ],
 "metadata": {
  "kernelspec": {
   "display_name": "Python 3",
   "language": "python",
   "name": "python3"
  },
  "language_info": {
   "codemirror_mode": {
    "name": "ipython",
    "version": 3
   },
   "file_extension": ".py",
   "mimetype": "text/x-python",
   "name": "python",
   "nbconvert_exporter": "python",
   "pygments_lexer": "ipython3",
   "version": "3.6.7"
  }
 },
 "nbformat": 4,
 "nbformat_minor": 2
}
