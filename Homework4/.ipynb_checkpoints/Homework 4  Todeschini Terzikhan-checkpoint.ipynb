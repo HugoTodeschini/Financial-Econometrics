{
 "cells": [
  {
   "cell_type": "markdown",
   "metadata": {},
   "source": [
    "<h1> Question 1 - Importation of tweeets</h1>"
   ]
  },
  {
   "cell_type": "code",
   "execution_count": 1,
   "metadata": {},
   "outputs": [],
   "source": [
    "import GetOldTweets3 as got\n",
    "import pandas as pd\n",
    "import csv\n",
    "from datetime import date, timedelta"
   ]
  },
  {
   "cell_type": "code",
   "execution_count": 5,
   "metadata": {},
   "outputs": [
    {
     "name": "stdout",
     "output_type": "stream",
     "text": [
      "01052019\n",
      "02052019\n",
      "03052019\n",
      "04052019\n"
     ]
    }
   ],
   "source": [
    "with open(\"data/trump.csv\", 'w', encoding=\"utf-8\") as f:\n",
    "    # Wrap the file object by the writer.\n",
    "    writer = csv.writer(f)\n",
    "    \n",
    "    # Write the header line to the output if needed.\n",
    "    writer.writerow(['date', 'tweet'])\n",
    "    \n",
    "    start = date(2019, 5, 1)\n",
    "    end = date(2019, 5, 5)\n",
    "    #end = date.today()\n",
    "    day = timedelta(days=1)\n",
    "\n",
    "    mydate = start\n",
    "    \n",
    "    while mydate < end:\n",
    "        print(\"{date.day:02}{date.month:02}{date.year}\".format(date=mydate))\n",
    "        \n",
    "        tweetCriteria = got.manager.TweetCriteria().setUsername(\"realDonaldTrump\")\\\n",
    "                                           .setSince((\"{date.year}-{date.month:02}-{date.day:02}\".format(date=mydate)))\\\n",
    "                                           .setUntil((\"{date.year}-{date.month:02}-{date.day:02}\".format(date=mydate+day)))\\\n",
    "                                           .setTopTweets(True)\\\n",
    "                                           .setMaxTweets(240)\n",
    "        \n",
    "        mydate = mydate + day\n",
    "        \n",
    "    \n",
    "        # Loop through the dictionary and get the tuples.\n",
    "        # You may want to sort it somehow. Not shown here.\n",
    "        for tweets in got.manager.TweetManager.getTweets(tweetCriteria):\n",
    "            #writer.writerow(t)\n",
    "\n",
    "            writer.writerow([tweets.date, tweets.text])"
   ]
  },
  {
   "cell_type": "code",
   "execution_count": 6,
   "metadata": {},
   "outputs": [
    {
     "data": {
      "text/html": [
       "<div>\n",
       "<style scoped>\n",
       "    .dataframe tbody tr th:only-of-type {\n",
       "        vertical-align: middle;\n",
       "    }\n",
       "\n",
       "    .dataframe tbody tr th {\n",
       "        vertical-align: top;\n",
       "    }\n",
       "\n",
       "    .dataframe thead th {\n",
       "        text-align: right;\n",
       "    }\n",
       "</style>\n",
       "<table border=\"1\" class=\"dataframe\">\n",
       "  <thead>\n",
       "    <tr style=\"text-align: right;\">\n",
       "      <th></th>\n",
       "      <th>date</th>\n",
       "      <th>tweet</th>\n",
       "    </tr>\n",
       "  </thead>\n",
       "  <tbody>\n",
       "    <tr>\n",
       "      <th>0</th>\n",
       "      <td>2019-05-01 13:03:41+00:00</td>\n",
       "      <td>NO COLLUSION, NO OBSTRUCTION. Besides, how can...</td>\n",
       "    </tr>\n",
       "    <tr>\n",
       "      <th>1</th>\n",
       "      <td>2019-05-01 12:28:53+00:00</td>\n",
       "      <td>Why didn’t President Obama do something about ...</td>\n",
       "    </tr>\n",
       "    <tr>\n",
       "      <th>2</th>\n",
       "      <td>2019-05-01 12:06:10+00:00</td>\n",
       "      <td>Congress must change the Immigration Laws now,...</td>\n",
       "    </tr>\n",
       "    <tr>\n",
       "      <th>3</th>\n",
       "      <td>2019-05-01 11:11:42+00:00</td>\n",
       "      <td>“No President in history has endured such vici...</td>\n",
       "    </tr>\n",
       "    <tr>\n",
       "      <th>4</th>\n",
       "      <td>2019-05-01 11:01:15+00:00</td>\n",
       "      <td>Gallup Poll: 56% of Americans rate their finan...</td>\n",
       "    </tr>\n",
       "  </tbody>\n",
       "</table>\n",
       "</div>"
      ],
      "text/plain": [
       "                        date  \\\n",
       "0  2019-05-01 13:03:41+00:00   \n",
       "1  2019-05-01 12:28:53+00:00   \n",
       "2  2019-05-01 12:06:10+00:00   \n",
       "3  2019-05-01 11:11:42+00:00   \n",
       "4  2019-05-01 11:01:15+00:00   \n",
       "\n",
       "                                               tweet  \n",
       "0  NO COLLUSION, NO OBSTRUCTION. Besides, how can...  \n",
       "1  Why didn’t President Obama do something about ...  \n",
       "2  Congress must change the Immigration Laws now,...  \n",
       "3  “No President in history has endured such vici...  \n",
       "4  Gallup Poll: 56% of Americans rate their finan...  "
      ]
     },
     "execution_count": 6,
     "metadata": {},
     "output_type": "execute_result"
    }
   ],
   "source": [
    "data = pd.read_csv(\"data/trump.csv\")\n",
    "data.head()"
   ]
  },
  {
   "cell_type": "markdown",
   "metadata": {},
   "source": [
    "<h1> Question 2 - Creation of a daily sentiment time serie</h1>"
   ]
  },
  {
   "cell_type": "markdown",
   "metadata": {},
   "source": [
    "<h1> Question 3 - Properties of the sentiment index time series</h1>"
   ]
  },
  {
   "cell_type": "markdown",
   "metadata": {},
   "source": [
    "<h1> Question 4 - Comparison bewtween tweets and S&P 500</h1>"
   ]
  },
  {
   "cell_type": "markdown",
   "metadata": {},
   "source": [
    "<h1> Question 5 - Test for Granger causality</h1>"
   ]
  }
 ],
 "metadata": {
  "kernelspec": {
   "display_name": "Python 3",
   "language": "python",
   "name": "python3"
  },
  "language_info": {
   "codemirror_mode": {
    "name": "ipython",
    "version": 3
   },
   "file_extension": ".py",
   "mimetype": "text/x-python",
   "name": "python",
   "nbconvert_exporter": "python",
   "pygments_lexer": "ipython3",
   "version": "3.6.7"
  }
 },
 "nbformat": 4,
 "nbformat_minor": 2
}
